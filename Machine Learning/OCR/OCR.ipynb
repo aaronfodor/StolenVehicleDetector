{
  "cells": [
    {
      "cell_type": "markdown",
      "metadata": {
        "id": "pUV3pIUQjyIY"
      },
      "source": [
        "# OCR notebook\n",
        ">This notebook uses Tensorflow/Keras to train an OCR model."
      ]
    },
    {
      "cell_type": "markdown",
      "metadata": {
        "id": "du87nWOgsRc-"
      },
      "source": [
        "#1. Environment preparation"
      ]
    },
    {
      "cell_type": "markdown",
      "metadata": {
        "id": "cbFxlza_fHJR"
      },
      "source": [
        "## Import dependencies"
      ]
    },
    {
      "cell_type": "code",
      "execution_count": 1,
      "metadata": {
        "id": "D3VNRYS8sRdE"
      },
      "outputs": [],
      "source": [
        "import os\n",
        "import gc\n",
        "import shutil\n",
        "import urllib\n",
        "import zipfile\n",
        "from pathlib import Path\n",
        "from datetime import datetime\n",
        "from collections import Counter\n",
        "\n",
        "import matplotlib.pyplot as plt\n",
        "import numpy as np\n",
        "import tensorflow as tf\n",
        "from tensorflow import keras\n",
        "from tensorflow.keras import layers\n",
        "\n",
        "import PIL\n",
        "from PIL import ImageFont\n",
        "from PIL import Image\n",
        "from PIL import ImageDraw\n",
        "import random"
      ]
    },
    {
      "cell_type": "code",
      "execution_count": 2,
      "metadata": {
        "colab": {
          "base_uri": "https://localhost:8080/"
        },
        "id": "6ePnAMajGzlb",
        "outputId": "4ddf15c7-b6da-4c23-d9f8-aa7d036c6a40"
      },
      "outputs": [
        {
          "name": "stdout",
          "output_type": "stream",
          "text": [
            "Tensorflow 2.4.1\n",
            "Numpy 1.19.5\n"
          ]
        }
      ],
      "source": [
        "print(f\"Tensorflow {tf.__version__}\")\n",
        "print(f\"Numpy {np.__version__}\")"
      ]
    },
    {
      "cell_type": "code",
      "execution_count": 3,
      "metadata": {
        "id": "wUOuW_jxsRdF"
      },
      "outputs": [],
      "source": [
        "np.random.seed(42)\n",
        "random.seed(42)"
      ]
    },
    {
      "cell_type": "markdown",
      "metadata": {
        "id": "bAEyuoWpsRdF"
      },
      "source": [
        "##A: Colab settings\n",
        "\n",
        ">Run these cells to prepare the environment running on Google Colab (Linux)."
      ]
    },
    {
      "cell_type": "code",
      "execution_count": 4,
      "metadata": {
        "id": "Npol_SzosRdF"
      },
      "outputs": [],
      "source": [
        "sep = \"/\"\n",
        "#Edit this to point to project root\n",
        "home = f\"{sep}content{sep}drive{sep}My Drive{sep}Machine Learning{sep}Stolen Vehicle Detector{sep}OCR{sep}\"\n",
        "\n",
        "local_home = f\"{sep}content{sep}OCR{sep}\"\n",
        "if not os.path.exists(local_home):\n",
        "    os.makedirs(local_home)"
      ]
    },
    {
      "cell_type": "markdown",
      "metadata": {
        "id": "ovGR-I7Aj_lB"
      },
      "source": [
        "### Mount Google Drive to this Notebook instance\n",
        ">As the dataset has been prepared previously and updated to Google Drive, the model building and training process will be done there, not locally."
      ]
    },
    {
      "cell_type": "code",
      "execution_count": 5,
      "metadata": {
        "colab": {
          "base_uri": "https://localhost:8080/"
        },
        "id": "2xiFHf3eJDMd",
        "outputId": "642fd39a-66bb-45c7-89b7-31baf6f20599"
      },
      "outputs": [
        {
          "name": "stdout",
          "output_type": "stream",
          "text": [
            "Drive already mounted at /content/drive; to attempt to forcibly remount, call drive.mount(\"/content/drive\", force_remount=True).\n",
            "/content/OCR\n"
          ]
        }
      ],
      "source": [
        "from google.colab import drive\n",
        "drive.mount('/content/drive', force_remount=False)\n",
        "\n",
        "os.chdir(local_home)\n",
        "# Show current directory\n",
        "!pwd"
      ]
    },
    {
      "cell_type": "markdown",
      "metadata": {
        "id": "1X9x35GXsRdG"
      },
      "source": [
        "##B: Windows settings\n",
        "\n",
        ">Run these cells to prepare the environment running on a Windows local machine."
      ]
    },
    {
      "cell_type": "code",
      "execution_count": null,
      "metadata": {
        "id": "FUvG9dvpsRdG"
      },
      "outputs": [],
      "source": [
        "#Edit this to point to project root\n",
        "sep = \"\\\\\"\n",
        "home = f\"B:{sep}Dev{sep}GitHub{sep}University{sep}MSc Thesis{sep}StolenVehicleDetector{sep}Machine Learning{sep}OCR{sep}\"\n",
        "local_home = f\"{home}\""
      ]
    },
    {
      "cell_type": "markdown",
      "metadata": {
        "id": "Ropwwbh8kFKL"
      },
      "source": [
        "## Define & create directories\n",
        "\n",
        ">Paths defined to work both remotely and locally."
      ]
    },
    {
      "cell_type": "code",
      "execution_count": 6,
      "metadata": {
        "id": "btps-60dsRdG"
      },
      "outputs": [],
      "source": [
        "source_data_dir = f\"{home}data{sep}\"\n",
        "local_data_dir = f\"{local_home}data{sep}\"\n",
        "\n",
        "training_dir = f\"{home}training{sep}\"\n",
        "checkpoint_dir = f\"{training_dir}checkpoint{sep}\"\n",
        "log_dir = f\"{training_dir}logs{sep}\"\n",
        "\n",
        "model_dir = f\"{home}model{sep}\"\n",
        "model_tmp_dir = f\"{model_dir}tmp{sep}\"\n",
        "keras_dir = f\"{model_dir}keras{sep}\"\n",
        "tflite_dir = f\"{model_dir}tflite{sep}\""
      ]
    },
    {
      "cell_type": "code",
      "execution_count": 7,
      "metadata": {
        "id": "e5CSjWevsRdG"
      },
      "outputs": [],
      "source": [
        "#Setup project directories\n",
        "if not os.path.exists(home):\n",
        "    os.makedirs(home)\n",
        "if not os.path.exists(local_home):\n",
        "    os.makedirs(local_home)\n",
        "\n",
        "if not os.path.exists(source_data_dir):\n",
        "    os.makedirs(source_data_dir)\n",
        "if not os.path.exists(local_data_dir):\n",
        "    os.makedirs(local_data_dir)\n",
        "\n",
        "if not os.path.exists(training_dir):\n",
        "    os.makedirs(training_dir)\n",
        "if not os.path.exists(checkpoint_dir):\n",
        "    os.makedirs(checkpoint_dir)\n",
        "if not os.path.exists(log_dir):\n",
        "    os.makedirs(log_dir)\n",
        "\n",
        "if not os.path.exists(model_dir):\n",
        "    os.makedirs(model_dir)\n",
        "if not os.path.exists(model_tmp_dir):\n",
        "    os.makedirs(model_tmp_dir)\n",
        "if not os.path.exists(keras_dir):\n",
        "    os.makedirs(keras_dir)\n",
        "if not os.path.exists(tflite_dir):\n",
        "    os.makedirs(tflite_dir)"
      ]
    },
    {
      "cell_type": "markdown",
      "metadata": {
        "id": "UlaFSQ8FsRdH"
      },
      "source": [
        "#2. Dataset preparation"
      ]
    },
    {
      "cell_type": "markdown",
      "metadata": {
        "id": "IhsHBMtSJlPH"
      },
      "source": [
        "##A: Captcha dataset init"
      ]
    },
    {
      "cell_type": "code",
      "execution_count": 18,
      "metadata": {
        "id": "eGmAX2mhsRdH"
      },
      "outputs": [],
      "source": [
        "class AbstractDatasetInit:\n",
        "    '''Abstract dataset init class\n",
        "    '''\n",
        "    dataset_name = \"\"\n",
        "    source_url: str = \"\"\n",
        "\n",
        "    def __init__(self, data_dir: str) -> None:\n",
        "        self.data_dir = data_dir\n",
        "        self.dataset_dir = self.data_dir + self.dataset_name\n",
        "        self.image_IDs = []\n",
        "        self.labels = []\n",
        "        self.characters: set = set()\n",
        "        self.label_max_length: int = 0\n",
        "\n",
        "    def __download_dataset(self):\n",
        "        pass\n",
        "\n",
        "    def __extract_dataset(self):\n",
        "        pass\n",
        "\n",
        "    def prepare(self):\n",
        "        '''Prepare the whole dataset before working with it\n",
        "        '''\n",
        "        pass\n",
        "\n",
        "    def show_info(self):\n",
        "        '''Show dataset properties\n",
        "        '''\n",
        "        print(\"Number of images: \", len(self.image_IDs))\n",
        "        print(\"Number of labels: \", len(self.labels))\n",
        "        print(\"Longest label: \", self.label_max_length)\n",
        "        print(\"Number of unique characters: \", len(self.characters))\n",
        "        print(\"Characters present: \", self.characters)\n",
        "\n",
        "\n",
        "class CaptchaDatasetInit(AbstractDatasetInit):\n",
        "    '''The captcha dataset init class\n",
        "    '''\n",
        "\n",
        "    dataset_name = \"captcha_images_v2\"\n",
        "    source_url: str = \"https://github.com/AakashKumarNain/CaptchaCracker/raw/master/captcha_images_v2.zip\"\n",
        "\n",
        "    def __init__(self, data_dir: str) -> None:\n",
        "        super().__init__(data_dir)\n",
        "        self.download_file_name = self.dataset_dir + \".zip\"\n",
        "\n",
        "    def __download_dataset(self):\n",
        "        download_file_path = Path(self.download_file_name)\n",
        "        if not download_file_path.exists():\n",
        "            #Not yet downloaded\n",
        "            urllib.request.urlretrieve(self.source_url, download_file_path)\n",
        "\n",
        "    def __extract_dataset(self):\n",
        "        download_file_path = Path(self.download_file_name)\n",
        "        if download_file_path.exists():\n",
        "            #if the target data directory is empty, extract the zip file\n",
        "            with zipfile.ZipFile(self.download_file_name, 'r') as zip_ref:\n",
        "                zip_ref.extractall(path = self.data_dir)\n",
        "\n",
        "    def load(self):\n",
        "        '''Loads the whole dataset before working with it\n",
        "        '''\n",
        "        # Download & extract dataset if it has not been yet\n",
        "        self.__download_dataset()\n",
        "        self.__extract_dataset()\n",
        "\n",
        "        dataset_path = Path(self.dataset_dir)\n",
        "        # Get list of the images\n",
        "        self.image_IDs = sorted(list(map(str, list(dataset_path.glob(\"*.png\")))))\n",
        "        # Labels of images: image names minus \".png\"\n",
        "        self.labels = [img.split(os.path.sep)[-1].split(\".png\")[0] for img in self.image_IDs]\n",
        "        # Set of distinct characters in the labels\n",
        "        characters = set(char for label in self.labels for char in label)\n",
        "        self.characters = sorted(characters)\n",
        "        # Compute the longest label in the dataset\n",
        "        self.label_max_length = max([len(label) for label in self.labels])\n",
        "\n",
        "    def split_data(self, train_ratio, shuffle=True):\n",
        "        # Get the total size of the dataset\n",
        "        size = len(self.image_IDs)\n",
        "        # Make an indices array and shuffle it, if required\n",
        "        indices = np.arange(size)\n",
        "        if shuffle:\n",
        "            np.random.shuffle(indices)\n",
        "        # Get the size of the training samples\n",
        "        train_samples = int(size * train_ratio)\n",
        "\n",
        "        images = np.array(self.image_IDs)\n",
        "        labels = np.array(self.labels)\n",
        "\n",
        "        # Split data into training and validation sets\n",
        "        x_train, y_train = images[indices[:train_samples]], images[indices[train_samples:]]\n",
        "        x_valid, y_valid = labels[indices[:train_samples]], labels[indices[train_samples:]]\n",
        "\n",
        "        return x_train, x_valid, y_train, y_valid"
      ]
    },
    {
      "cell_type": "code",
      "execution_count": 19,
      "metadata": {
        "colab": {
          "base_uri": "https://localhost:8080/"
        },
        "id": "YMtDXqj7KUGV",
        "outputId": "3abef9dd-5254-4b63-aae5-aa8ec2eb6342"
      },
      "outputs": [
        {
          "name": "stdout",
          "output_type": "stream",
          "text": [
            "Number of images:  1040\n",
            "Number of labels:  1040\n",
            "Longest label:  5\n",
            "Number of unique characters:  19\n",
            "Characters present:  ['2', '3', '4', '5', '6', '7', '8', 'b', 'c', 'd', 'e', 'f', 'g', 'm', 'n', 'p', 'w', 'x', 'y']\n"
          ]
        }
      ],
      "source": [
        "data_loader = CaptchaDatasetInit(local_data_dir)\n",
        "data_loader.load()\n",
        "data_loader.show_info()"
      ]
    },
    {
      "cell_type": "code",
      "execution_count": 20,
      "metadata": {
        "id": "isyM8DWIKUqF"
      },
      "outputs": [],
      "source": [
        "#Training set ratio\n",
        "train_ratio = 0.9\n",
        "shuffle = True"
      ]
    },
    {
      "cell_type": "code",
      "execution_count": 21,
      "metadata": {
        "id": "DmLLYo5cKUwy"
      },
      "outputs": [],
      "source": [
        "# Splitting data into training and validation sets\n",
        "x_train, x_valid, y_train, y_valid = data_loader.split_data(train_ratio, shuffle)"
      ]
    },
    {
      "cell_type": "code",
      "execution_count": 31,
      "metadata": {
        "id": "7MsV1gmssRdJ"
      },
      "outputs": [],
      "source": [
        "class CaptchaDatasetWrapper():\n",
        "\n",
        "    def __init__(self, characters, image_IDs, labels, image_dim=(200,200), n_channels=3, batch_size=16, shuffle=True, max_len=20, oov_token='[?]'):\n",
        "\n",
        "        self.max_len = max_len\n",
        "\n",
        "        self.image_IDs = image_IDs\n",
        "        # Uniformly transform labels to [0:max_len] sized\n",
        "        self.labels = [label.ljust(max_len)[0:max_len] for label in labels]\n",
        "        self.image_dim = image_dim\n",
        "        self.n_channels = n_channels\n",
        "        self.shuffle = shuffle\n",
        "\n",
        "        self.max_block_length = max_len\n",
        "        self.oov_token = oov_token\n",
        "\n",
        "        self.batch_size = batch_size\n",
        "        self.num_items = len(self.image_IDs)\n",
        "        self.num_batches = int(np.floor(self.num_items / self.batch_size))\n",
        "\n",
        "        # Mapping characters to integers\n",
        "        self.char_to_num = layers.experimental.preprocessing.StringLookup(\n",
        "            vocabulary=list(characters), num_oov_indices=1, oov_token=self.oov_token, mask_token=None, invert=False\n",
        "        )\n",
        "\n",
        "        # Mapping integers back to characters\n",
        "        self.num_to_char = layers.experimental.preprocessing.StringLookup(\n",
        "            vocabulary=self.char_to_num.get_vocabulary(), num_oov_indices=1, oov_token=self.oov_token, mask_token=None, invert=True\n",
        "        )\n",
        "\n",
        "        self.dataset = tf.data.Dataset.from_tensor_slices((self.image_IDs, self.labels))\n",
        "        self.dataset = self.dataset.shuffle(self.num_items, reshuffle_each_iteration=self.shuffle)\n",
        "        self.dataset = (\n",
        "            self.dataset.map(\n",
        "            self.get_item, num_parallel_calls=tf.data.experimental.AUTOTUNE)\n",
        "            .batch(self.batch_size)\n",
        "            .prefetch(buffer_size=tf.data.experimental.AUTOTUNE)\n",
        "        )\n",
        "\n",
        "    def data_to_dict(self, image, label):\n",
        "        # Return a dict\n",
        "        return {\"image\": image, \"label\": label}\n",
        "\n",
        "    def encode_data(self, img_path, char_label):\n",
        "        # Read the image\n",
        "        img = tf.io.read_file(img_path)\n",
        "        # Decode and convert to have the required amount of channels\n",
        "        img = tf.io.decode_image(img, channels=self.n_channels)\n",
        "        # Convert to float32 in [0, 1) range\n",
        "        img = tf.image.convert_image_dtype(img, tf.float32)\n",
        "        # Resize to the desired size\n",
        "        img = tf.image.resize_with_pad(img, self.image_dim[0], self.image_dim[1])\n",
        "        # keep the characters in the range of [0:self.max_block_length]\n",
        "        char_label = tf.strings.substr(char_label, 0, self.max_len, unit='BYTE', name=None)\n",
        "        # Splits each string in input into a sequence of Unicode code point\n",
        "        char_label = tf.strings.unicode_split(char_label, input_encoding=\"UTF-8\")\n",
        "        # Map the characters in a block to numbers\n",
        "        num_label = self.char_to_num(char_label)\n",
        "        # Return the encoded results\n",
        "        return img, num_label\n",
        "        \n",
        "    def get_item(self, img_path, char_label):\n",
        "        image, label = self.encode_data(img_path, char_label)\n",
        "        return self.data_to_dict(image, label)\n",
        "\n",
        "    def decode_image(self, encoded_image):\n",
        "        # Only one image\n",
        "        # dimension to correspond to the original order\n",
        "        #decoded_image = tf.transpose(encoded_image, perm=[1, 0, 2])\n",
        "        decoded_image = (encoded_image * 255).numpy().astype(\"uint8\")\n",
        "        return decoded_image\n",
        "\n",
        "    def decode_label(self, encoded_label, replace_oov):\n",
        "        # Only one text block\n",
        "        decoded_label = self.num_to_char(encoded_label)\n",
        "        decoded_label = tf.strings.reduce_join(decoded_label).numpy().decode(\"utf-8\")\n",
        "        if replace_oov:\n",
        "            decoded_label = decoded_label.replace(self.oov_token, '')\n",
        "        return decoded_label"
      ]
    },
    {
      "cell_type": "markdown",
      "metadata": {
        "id": "UsNjLNVAJpuV"
      },
      "source": [
        "##B: License plate generator init"
      ]
    },
    {
      "cell_type": "code",
      "execution_count": 16,
      "metadata": {
        "id": "vFhUIvavICCj"
      },
      "outputs": [],
      "source": [
        "class PlateGeneratorInit:\r\n",
        "    '''The plate generator init class\r\n",
        "    '''\r\n",
        "\r\n",
        "    dataset_name = \"plate_generator\"\r\n",
        "    source_url: str = \"\"\r\n",
        "\r\n",
        "    def __init__(self, data_dir: str, sep: str) -> None:\r\n",
        "        self.dataset_dir = data_dir + self.dataset_name\r\n",
        "        self.sep = sep\r\n",
        "        self.characters: set = set()\r\n",
        "        self.fonts: set = set()\r\n",
        "\r\n",
        "    def __download_sources(self):\r\n",
        "        pass\r\n",
        "\r\n",
        "    def load(self):\r\n",
        "        '''Loads the dataset generator sources\r\n",
        "        '''\r\n",
        "        characters_path = Path(f\"{self.dataset_dir}{sep}characters.txt\")\r\n",
        "        # Set of characters\r\n",
        "        characters = set(line.strip() for line in open(characters_path))\r\n",
        "        self.characters = sorted(characters)\r\n",
        "\r\n",
        "        fonts_path = Path(f\"{self.dataset_dir}{sep}fonts{sep}\")\r\n",
        "        # Set of fonts\r\n",
        "        self.fonts = list(map(str, list(fonts_path.glob(\"*.ttf\"))))\r\n",
        "\r\n",
        "    def show_info(self):\r\n",
        "        '''Show dataset generator properties\r\n",
        "        '''\r\n",
        "        print(\"Number of fonts: \", len(self.fonts))\r\n",
        "        print(\"Number of unique characters: \", len(self.characters))\r\n",
        "        print(\"Characters present: \", self.characters)"
      ]
    },
    {
      "cell_type": "code",
      "execution_count": 17,
      "metadata": {
        "colab": {
          "base_uri": "https://localhost:8080/"
        },
        "id": "Zuw7UNn5sRdI",
        "outputId": "dfd49b45-d131-4944-f2ed-b827955b1e8d"
      },
      "outputs": [
        {
          "name": "stdout",
          "output_type": "stream",
          "text": [
            "Number of fonts:  18\n",
            "Number of unique characters:  37\n",
            "Characters present:  ['-', '0', '1', '2', '3', '4', '5', '6', '7', '8', '9', 'a', 'b', 'c', 'd', 'e', 'f', 'g', 'h', 'i', 'j', 'k', 'l', 'm', 'n', 'o', 'p', 'q', 'r', 's', 't', 'u', 'v', 'w', 'x', 'y', 'z']\n"
          ]
        }
      ],
      "source": [
        "data_loader = PlateGeneratorInit(source_data_dir, sep)\n",
        "data_loader.load()\n",
        "data_loader.show_info()"
      ]
    },
    {
      "cell_type": "code",
      "execution_count": 37,
      "metadata": {
        "id": "fHb0Is0GICCl"
      },
      "outputs": [],
      "source": [
        "class PlateGeneratorWrapper():\r\n",
        "\r\n",
        "    def __init__(self, characters, min_len, max_len, fonts, font_size=50, image_dim=(50,500), n_channels=3, batch_size=16, oov_token='[?]'):\r\n",
        "\r\n",
        "        characters = [char.upper() for char in characters]\r\n",
        "        self.min_len = min_len\r\n",
        "        self.max_len = max_len\r\n",
        "\r\n",
        "        self.fonts = list(ImageFont.truetype(font_str, font_size) for font_str in fonts)\r\n",
        "\r\n",
        "        self.image_dim = image_dim\r\n",
        "        self.n_channels = n_channels\r\n",
        "        self.batch_size = batch_size\r\n",
        "\r\n",
        "        self.oov_token = oov_token\r\n",
        "\r\n",
        "        # Mapping characters to integers\r\n",
        "        self.char_to_num = layers.experimental.preprocessing.StringLookup(\r\n",
        "            vocabulary=list(characters), num_oov_indices=1, oov_token=self.oov_token, mask_token=None, invert=False\r\n",
        "        )\r\n",
        "\r\n",
        "        # Mapping integers back to characters\r\n",
        "        self.num_to_char = layers.experimental.preprocessing.StringLookup(\r\n",
        "            vocabulary=self.char_to_num.get_vocabulary(), num_oov_indices=1, oov_token=self.oov_token, mask_token=None, invert=True\r\n",
        "        )\r\n",
        "\r\n",
        "        placeholder_tensor = tf.zeros([self.batch_size*20], tf.int8)\r\n",
        "        self.dataset = tf.data.Dataset.from_tensor_slices((placeholder_tensor))\r\n",
        "        self.dataset = (\r\n",
        "            self.dataset.map(\r\n",
        "            self.get_item, num_parallel_calls=tf.data.experimental.AUTOTUNE)\r\n",
        "            .batch(self.batch_size)\r\n",
        "            .prefetch(buffer_size=tf.data.experimental.AUTOTUNE)\r\n",
        "        )\r\n",
        "\r\n",
        "    def data_to_dict(self, image, label):\r\n",
        "        # Return a dict\r\n",
        "        return {\"image\": image, \"label\": label}\r\n",
        "\r\n",
        "    def encode_data(self, img_path, char_label):\r\n",
        "        return self.generate_item()\r\n",
        "\r\n",
        "    def generate_item(self):\r\n",
        "\r\n",
        "        img_type = \"RGB\"\r\n",
        "        img_ch_colors = (0,128,255)\r\n",
        "        if(self.n_channels == 1):\r\n",
        "            img_type = \"L\"\r\n",
        "            img_ch_colors = (128)\r\n",
        "\r\n",
        "        image = Image.new(img_type, (self.image_dim[1], self.image_dim[0]), img_ch_colors)\r\n",
        "        image = np.array(image, dtype=float)\r\n",
        "        # normalize from [0..255] to [0..1]\r\n",
        "        image *= (1/255.0)\r\n",
        "        # image to tensor\r\n",
        "        img = tf.keras.preprocessing.image.img_to_array(image)\r\n",
        "\r\n",
        "        char_label = \"ABC-012\"\r\n",
        "        # keep the characters in the range of [0:self.max_block_length]\r\n",
        "        char_label = tf.strings.substr(char_label, 0, self.max_len, unit='BYTE', name=None)\r\n",
        "        # Splits each string in input into a sequence of Unicode code point\r\n",
        "        char_label = tf.strings.unicode_split(char_label, input_encoding=\"UTF-8\")\r\n",
        "        # Map the characters in a block to numbers\r\n",
        "        num_label = self.char_to_num(char_label)\r\n",
        "        # Return the encoded results\r\n",
        "        return img, num_label\r\n",
        "        \r\n",
        "    def get_item(self, dummy_x):\r\n",
        "        image, label = self.generate_item()\r\n",
        "        return self.data_to_dict(image, label)\r\n",
        "\r\n",
        "    def decode_image(self, encoded_image):\r\n",
        "        # Only one image\r\n",
        "        # dimension to correspond to the original order\r\n",
        "        #decoded_image = tf.transpose(encoded_image, perm=[1, 0, 2])\r\n",
        "        decoded_image = (encoded_image * 255).numpy().astype(\"uint8\")\r\n",
        "        return decoded_image\r\n",
        "\r\n",
        "    def decode_label(self, encoded_label, replace_oov):\r\n",
        "        # Only one text block\r\n",
        "        decoded_label = self.num_to_char(encoded_label)\r\n",
        "        decoded_label = tf.strings.reduce_join(decoded_label).numpy().decode(\"utf-8\")\r\n",
        "        if replace_oov:\r\n",
        "            decoded_label = decoded_label.replace(self.oov_token, '')\r\n",
        "        return decoded_label"
      ]
    },
    {
      "cell_type": "markdown",
      "metadata": {
        "id": "9-7CISvllazf"
      },
      "source": [
        "#3. Training configuration"
      ]
    },
    {
      "cell_type": "code",
      "execution_count": 48,
      "metadata": {
        "id": "BJCXRAROsRdN"
      },
      "outputs": [],
      "source": [
        "#Required input image dimensions (N x N images)\n",
        "img_h = 50 #200\n",
        "img_w = 200\n",
        "#3 means RGB, 1 means grayscale\n",
        "n_channels = 1"
      ]
    },
    {
      "cell_type": "code",
      "execution_count": 49,
      "metadata": {
        "colab": {
          "base_uri": "https://localhost:8080/"
        },
        "id": "cSAZ2dnRiAEs",
        "outputId": "c848e14b-f3e9-4749-d095-abcd8c1afa64"
      },
      "outputs": [
        {
          "name": "stdout",
          "output_type": "stream",
          "text": [
            "['!', '\"', '#', '$', '%', '&', '(', ')', '*', '+', ',', '-', '.', '/', '0', '1', '2', '3', '4', '5', '6', '7', '8', '9', ':', ';', '<', '=', '>', '?', '@', '[', '\\\\', ']', '^', '_', 'a', 'b', 'c', 'd', 'e', 'f', 'g', 'h', 'i', 'j', 'k', 'l', 'm', 'n', 'o', 'p', 'q', 'r', 's', 't', 'u', 'v', 'w', 'x', 'y', 'z', '{', '|', '}', '~']\n",
            "66\n"
          ]
        }
      ],
      "source": [
        "model_characters = set(line.strip() for line in open(f\"{model_dir}{sep}characters.txt\"))\n",
        "model_characters = sorted(model_characters)\n",
        "print(model_characters)\n",
        "print(len(model_characters))"
      ]
    },
    {
      "cell_type": "code",
      "execution_count": 50,
      "metadata": {
        "id": "a70gBOpnsRdQ"
      },
      "outputs": [],
      "source": [
        "# Batch size for training and validation\n",
        "batch_size = 16\n",
        "characters = model_characters\n",
        "# Number of characters to process\n",
        "num_characters = len(characters)\n",
        "\n",
        "min_len = 1\n",
        "max_len = 20"
      ]
    },
    {
      "cell_type": "markdown",
      "metadata": {
        "id": "1x5BkahZLmv5"
      },
      "source": [
        "##A: Captcha dataset instantiation"
      ]
    },
    {
      "cell_type": "code",
      "execution_count": null,
      "metadata": {
        "id": "vmIx3MjDLh8j"
      },
      "outputs": [],
      "source": [
        "train = CaptchaDatasetWrapper(characters, x_train, x_valid, image_dim=(img_h, img_w), n_channels=n_channels, \n",
        "    batch_size=batch_size, shuffle=True, max_len=max_len)\n",
        "\n",
        "validation = CaptchaDatasetWrapper(characters, y_train, y_valid, image_dim=(img_h, img_w), n_channels=n_channels, \n",
        "    batch_size=batch_size, shuffle=False, max_len=max_len)"
      ]
    },
    {
      "cell_type": "markdown",
      "metadata": {
        "id": "dmZ3NXBHLrLY"
      },
      "source": [
        "##B: License plate generator dataset instantiation"
      ]
    },
    {
      "cell_type": "code",
      "execution_count": 51,
      "metadata": {
        "id": "OfubBgRCsRdQ"
      },
      "outputs": [],
      "source": [
        "train = PlateGeneratorWrapper(characters, min_len=min_len, max_len=max_len, fonts=data_loader.fonts, image_dim=(img_h, img_w), n_channels=n_channels, \n",
        "    batch_size=batch_size)\n",
        "\n",
        "validation = PlateGeneratorWrapper(characters, min_len=min_len, max_len=max_len, fonts=data_loader.fonts, image_dim=(img_h, img_w), n_channels=n_channels, \n",
        "    batch_size=batch_size)"
      ]
    },
    {
      "cell_type": "markdown",
      "metadata": {
        "id": "r3ZQXAbXlxrE"
      },
      "source": [
        "##Test label encoding/decoding"
      ]
    },
    {
      "cell_type": "code",
      "execution_count": 52,
      "metadata": {
        "colab": {
          "base_uri": "https://localhost:8080/"
        },
        "id": "efS2ghILsRdR",
        "outputId": "bb1b0845-4a5e-4a3f-dc97-1f1c4668273f"
      },
      "outputs": [
        {
          "name": "stdout",
          "output_type": "stream",
          "text": [
            "tf.Tensor(0, shape=(), dtype=int64)\n",
            "tf.Tensor(b'[?]', shape=(), dtype=string)\n"
          ]
        }
      ],
      "source": [
        "char_to_encode = b'y'\n",
        "\n",
        "num = train.char_to_num(char_to_encode)\n",
        "print(num)\n",
        "\n",
        "char = train.num_to_char(num)\n",
        "print(char)"
      ]
    },
    {
      "cell_type": "code",
      "execution_count": 53,
      "metadata": {
        "colab": {
          "base_uri": "https://localhost:8080/"
        },
        "id": "ft3rpLYTsRdR",
        "outputId": "ca4a64ea-b2a5-4463-e20c-e3d1914df79e"
      },
      "outputs": [
        {
          "name": "stdout",
          "output_type": "stream",
          "text": [
            "can you 23456 love tonight??\n",
            "tf.Tensor([37 38 39 12 15 16 17], shape=(7,), dtype=int64)\n",
            "ABC-012\n",
            "ABC-012\n"
          ]
        }
      ],
      "source": [
        "label = \"can you 23456 love tonight??\"\n",
        "print(label)\n",
        "\n",
        "image, encoded_label = train.encode_data(local_data_dir + f\"captcha_images_v2{sep}226md.png\", label)\n",
        "print(encoded_label)\n",
        "\n",
        "decoded_label = train.decode_label(encoded_label, False)\n",
        "print(decoded_label)\n",
        "decoded_label_no_oov = train.decode_label(encoded_label, True)\n",
        "print(decoded_label_no_oov)"
      ]
    },
    {
      "cell_type": "markdown",
      "metadata": {
        "id": "35Vi1zrXl7GJ"
      },
      "source": [
        "##Inspect dataset"
      ]
    },
    {
      "cell_type": "code",
      "execution_count": 54,
      "metadata": {
        "colab": {
          "base_uri": "https://localhost:8080/"
        },
        "id": "ev-FWCpqsRdR",
        "outputId": "8870bdf7-fc03-4efb-8224-155c26dd40b6"
      },
      "outputs": [
        {
          "name": "stdout",
          "output_type": "stream",
          "text": [
            "tf.Tensor(\n",
            "[[37 38 39 12 15 16 17]\n",
            " [37 38 39 12 15 16 17]\n",
            " [37 38 39 12 15 16 17]\n",
            " [37 38 39 12 15 16 17]\n",
            " [37 38 39 12 15 16 17]\n",
            " [37 38 39 12 15 16 17]\n",
            " [37 38 39 12 15 16 17]\n",
            " [37 38 39 12 15 16 17]\n",
            " [37 38 39 12 15 16 17]\n",
            " [37 38 39 12 15 16 17]\n",
            " [37 38 39 12 15 16 17]\n",
            " [37 38 39 12 15 16 17]\n",
            " [37 38 39 12 15 16 17]\n",
            " [37 38 39 12 15 16 17]\n",
            " [37 38 39 12 15 16 17]\n",
            " [37 38 39 12 15 16 17]], shape=(16, 7), dtype=int64)\n",
            "tf.Tensor(\n",
            "[[7]\n",
            " [7]\n",
            " [7]\n",
            " [7]\n",
            " [7]\n",
            " [7]\n",
            " [7]\n",
            " [7]\n",
            " [7]\n",
            " [7]\n",
            " [7]\n",
            " [7]\n",
            " [7]\n",
            " [7]\n",
            " [7]\n",
            " [7]], shape=(16, 1), dtype=int64)\n"
          ]
        }
      ],
      "source": [
        "for batch in train.dataset.take(1):\n",
        "    labels = batch['label']\n",
        "    print(labels)\n",
        "\n",
        "    label_lengths_list = tf.TensorArray(tf.int64, size=len(labels))\n",
        "\n",
        "    for i in range(len(labels)):\n",
        "        length = [tf.math.count_nonzero(labels[i])]\n",
        "        label_lengths_list = label_lengths_list.write(i, length)\n",
        "\n",
        "    label_lengths = label_lengths_list.stack()\n",
        "    print(label_lengths)\n"
      ]
    },
    {
      "cell_type": "code",
      "execution_count": 55,
      "metadata": {
        "id": "mkJ-sIEWsRdS"
      },
      "outputs": [],
      "source": [
        "def show_dataset_sample(dataset_wrapper):\n",
        "    batch_size = dataset_wrapper.batch_size\n",
        "    img_in_line = 4\n",
        "    num_lines = dataset_wrapper.batch_size//img_in_line\n",
        "    img_size_w = 4\n",
        "    img_size_h = 2\n",
        "    _, ax = plt.subplots(num_lines, img_in_line, figsize=(img_in_line*img_size_w, num_lines*img_size_h))\n",
        "\n",
        "    for batch in dataset_wrapper.dataset.take(1):\n",
        "        images = batch['image']\n",
        "        labels = batch['label']\n",
        "\n",
        "        for i in range(batch_size):\n",
        "            img = dataset_wrapper.decode_image(images[i])\n",
        "            # if image has only one channel, drop channel dim to plot with matplotlib\n",
        "            if(img.shape[2] == 1):\n",
        "                img = img[:,:,0]\n",
        "\n",
        "            label = dataset_wrapper.decode_label(labels[i], True)\n",
        "            ax[i // img_in_line, i % img_in_line].imshow(img)\n",
        "            ax[i // img_in_line, i % img_in_line].set_title(label)\n",
        "\n",
        "    plt.show()"
      ]
    },
    {
      "cell_type": "code",
      "execution_count": 56,
      "metadata": {
        "colab": {
          "base_uri": "https://localhost:8080/",
          "height": 453
        },
        "id": "7Cv1G8fUsRdS",
        "outputId": "b4bdfaec-bf40-4a27-ca6b-fcf16fb69307"
      },
      "outputs": [
        {
          "data": {
            "image/png": "[encoded data removed]",
            "text/plain": [
              "<Figure size 1152x576 with 16 Axes>"
            ]
          },
          "metadata": {
            "needs_background": "light",
            "tags": []
          },
          "output_type": "display_data"
        }
      ],
      "source": [
        "show_dataset_sample(train)"
      ]
    },
    {
      "cell_type": "markdown",
      "metadata": {
        "id": "hWqkWN_pmBVG"
      },
      "source": [
        "#4. Model creation"
      ]
    },
    {
      "cell_type": "markdown",
      "metadata": {
        "id": "Abt_RdNbmSm1"
      },
      "source": [
        "##CTC layer"
      ]
    },
    {
      "cell_type": "code",
      "execution_count": 39,
      "metadata": {
        "id": "py0JDwJCsRdS"
      },
      "outputs": [],
      "source": [
        "class CTCLayer(layers.Layer):\n",
        "    \n",
        "    def __init__(self, name=None):\n",
        "        super().__init__(name=name)\n",
        "        self.loss_fn = keras.backend.ctc_batch_cost\n",
        "\n",
        "    def call(self, y_true, y_pred):\n",
        "        '''\n",
        "        y_true: tf.tensor with shape (batch_size, max_len), dtype=int64\n",
        "        y_pred: tf.tensor with shape (batch_size, max_timesteps, num_characters), dtype=float\n",
        "        '''\n",
        "\n",
        "        # Compute the training time loss\n",
        "        batch_len = tf.cast(tf.shape(y_true)[0], dtype=\"int32\")\n",
        "        label_lengths = tf.TensorArray(tf.int64, size=tf.shape(y_true)[0])\n",
        "\n",
        "        def loop_body(i, label_lengths):\n",
        "            return i + 1, label_lengths.write(i, [tf.math.count_nonzero(y_true[i])])\n",
        "\n",
        "        _, label_lengths = tf.while_loop(lambda i, label_lengths: i < batch_len, loop_body, [0, label_lengths])\n",
        "        label_lengths = label_lengths.stack()\n",
        "\n",
        "        pred_lengths = tf.cast(tf.shape(y_pred)[1], dtype=\"int64\")\n",
        "        pred_lengths = pred_lengths * tf.ones(shape=(batch_len, 1), dtype=\"int64\")\n",
        "\n",
        "        loss = self.loss_fn(y_true, y_pred, pred_lengths, label_lengths)\n",
        "        # Add it to the parent layer\n",
        "        self.add_loss(loss) \n",
        "\n",
        "        # At inference, just return the model predictions\n",
        "        return y_pred"
      ]
    },
    {
      "cell_type": "markdown",
      "metadata": {
        "id": "Elvs_nRWmbzO"
      },
      "source": [
        "###CTC layer test call"
      ]
    },
    {
      "cell_type": "code",
      "execution_count": null,
      "metadata": {
        "id": "QVK8p9SKsRdT"
      },
      "outputs": [],
      "source": [
        "# shape: batch_size x max_len\n",
        "true = tf.constant(([[1,8,6,3], [1,9,0,0]]), dtype=\"int64\")\n",
        "# shape: batch_size x max_timesteps x num_characters\n",
        "pred = tf.zeros(shape=(2, 25, 10), dtype=\"float\")\n",
        "\n",
        "#ctc = CTCLayer()\n",
        "#ctc.call(true, pred)"
      ]
    },
    {
      "cell_type": "markdown",
      "metadata": {
        "id": "hG5cKSjTmgzz"
      },
      "source": [
        "###Compare Python loop with tf.while_loop\n",
        "\n",
        "> The custom CTC layer uses a `tf.while_loop`. As inference speed is critical there, benchmark testing has been implemented. In general, the Python loop is 1.3x faster than the tensorflow loop, which is the only possibility to iterate through dynamic tensors. This is essential to calculate input label lengths on the fly, and pass to `keras.backend.ctc_batch_cost`."
      ]
    },
    {
      "cell_type": "code",
      "execution_count": null,
      "metadata": {
        "id": "XnM9bTIBsRdS"
      },
      "outputs": [],
      "source": [
        "def tf_loop():\n",
        "    true = tf.constant(([[1,8,6,3], [1,9,0,0]]), dtype=\"int64\")\n",
        "    batch_len = tf.cast(tf.shape(true)[0], dtype=\"int32\")\n",
        "    label_lengths = tf.TensorArray(tf.int64, size=tf.shape(true)[0])\n",
        "\n",
        "    def loop_body(i, label_lengths):\n",
        "        label_lengths.write(i, [tf.math.count_nonzero(true[i])]).mark_used()\n",
        "        return i + 1, label_lengths\n",
        "\n",
        "    _, label_lengths = tf.while_loop(\n",
        "        lambda i, label_lengths: i < batch_len, loop_body, [0, label_lengths])\n",
        "\n",
        "    label_lengths = label_lengths.stack()\n",
        "    #print(label_lengths)\n",
        "    return label_lengths\n",
        "\n",
        "def python_loop():\n",
        "    true = tf.constant(([[1,8,6,3], [1,9,0,0]]), dtype=\"int64\")\n",
        "    batch_len = tf.cast(tf.shape(true)[0], dtype=\"int32\")\n",
        "    label_lengths = tf.TensorArray(tf.int64, size=tf.shape(true)[0])\n",
        "\n",
        "    for i in range(batch_len):\n",
        "        label_length = [tf.math.count_nonzero(true[i])]\n",
        "        label_lengths.write(i, label_length).mark_used()\n",
        "\n",
        "    label_lengths = label_lengths.stack()\n",
        "    #print(label_lengths)\n",
        "    return label_lengths"
      ]
    },
    {
      "cell_type": "code",
      "execution_count": null,
      "metadata": {
        "colab": {
          "base_uri": "https://localhost:8080/"
        },
        "id": "MhZycMSUsRdS",
        "outputId": "115c268d-4a00-41a3-9e81-132296f565eb"
      },
      "outputs": [
        {
          "name": "stdout",
          "output_type": "stream",
          "text": [
            "TF loop: 1.6681964359000006 ms\n",
            "Python loop: 1.3388843366999994 ms\n"
          ]
        }
      ],
      "source": [
        "import timeit\n",
        "num_iters = 10000\n",
        "\n",
        "tf_avg = (timeit.timeit(tf_loop, number=num_iters)/num_iters)*1000\n",
        "python_avg = (timeit.timeit(python_loop, number=num_iters)/num_iters)*1000\n",
        "\n",
        "print(f\"TF loop: {tf_avg} ms\")\n",
        "print(f\"Python loop: {python_avg} ms\")"
      ]
    },
    {
      "cell_type": "markdown",
      "metadata": {
        "id": "F0ZFM1G8n3M8"
      },
      "source": [
        "##Model definition"
      ]
    },
    {
      "cell_type": "code",
      "execution_count": 40,
      "metadata": {
        "id": "WhYonKYEsRdT"
      },
      "outputs": [],
      "source": [
        "def ocr_model_v1(image_dim: (int, int), channels: int, num_characters: int, optimizer):\n",
        "    #Factor by which the image is going to be downsampled by the convolutional blocks.\n",
        "    #Two convolutional blocks are used; each block has a pooling layer which downsample the features by a factor of 2.\n",
        "    #Thus, the total downsampling factor is (2x2)=4.\n",
        "    downsample_factor = 4\n",
        "    #Model inputs\n",
        "    input_image = layers.Input(shape=(image_dim[0], image_dim[1], channels), name=\"image\", dtype=\"float32\")\n",
        "    labels = layers.Input(name=\"label\", shape=(None,), dtype=\"float32\")\n",
        "\n",
        "    # Make the first dimension correspond to the width of the image\n",
        "    # RNN part \"reads\" the image from left to right (instead of top to bottom)\n",
        "    x = layers.Permute((2, 1, 3), name=\"Permute\")(input_image)\n",
        "\n",
        "    #1st conv block\n",
        "    x = layers.Conv2D(32, (3, 3),\n",
        "        activation=\"relu\",\n",
        "        kernel_initializer=\"he_normal\",\n",
        "        padding=\"same\",\n",
        "        name=\"Conv1\",\n",
        "    )(x)\n",
        "    #1st max pooling\n",
        "    x = layers.MaxPooling2D((2, 2), name=\"Pool1\")(x)\n",
        "\n",
        "    #2nd conv block\n",
        "    x = layers.Conv2D(64, (3, 3),\n",
        "        activation=\"relu\",\n",
        "        kernel_initializer=\"he_normal\",\n",
        "        padding=\"same\",\n",
        "        name=\"Conv2\",\n",
        "    )(x)\n",
        "    #2nd max pooling\n",
        "    x = layers.MaxPooling2D((2, 2), name=\"MaxPool2\")(x)\n",
        "\n",
        "    # Two max pool have been used with pool size and strides 2.\n",
        "    # This way, the downsampled feature maps are 4x smaller. \n",
        "    # The number of filters in the last layer is 64. \n",
        "    # Reshape accordingly before passing the features to the RNN part.\n",
        "    # image_dim[1], image_dim[0] has reversed order because layers.Permute changed dim 1 & dim 2\n",
        "    new_shape = ((image_dim[1] // downsample_factor), (image_dim[0] // downsample_factor) * 64)\n",
        "    x = layers.Reshape(target_shape=new_shape, name=\"Reshape\")(x)\n",
        "    x = layers.Dense(64, activation=\"relu\", name=\"Dense1\")(x)\n",
        "    x = layers.Dropout(0.2, name=\"Dropout\")(x)\n",
        "\n",
        "    # RNNs\n",
        "    x = layers.Bidirectional(layers.LSTM(128, return_sequences=True, dropout=0.25), name=\"LSTM1\")(x)\n",
        "    x = layers.Bidirectional(layers.LSTM(64, return_sequences=True, dropout=0.25), name=\"LSTM2\")(x)\n",
        "\n",
        "    # Output layer\n",
        "    # +1 for empty character, +1 for zero padding\n",
        "    x = layers.Dense(num_characters+2, activation=\"softmax\", name=\"Dense2\")(x)\n",
        "\n",
        "    # Add CTC layer for calculating CTC loss at each step\n",
        "    output = CTCLayer(name=\"CTCloss\")(labels, x)\n",
        "\n",
        "    # Define the model\n",
        "    model = keras.models.Model(\n",
        "        inputs=[input_image, labels], outputs=output, name=\"ocr_model_v1\")\n",
        "    # Optimizer\n",
        "    optimizer = optimizer\n",
        "    # Compile the model\n",
        "    model.compile(optimizer=optimizer)\n",
        "    #Return the model to use\n",
        "    return model"
      ]
    },
    {
      "cell_type": "markdown",
      "metadata": {
        "id": "IOwmQ-w_n-ZF"
      },
      "source": [
        "##Build model"
      ]
    },
    {
      "cell_type": "code",
      "execution_count": 41,
      "metadata": {
        "colab": {
          "base_uri": "https://localhost:8080/"
        },
        "id": "uSXz3pTasRdT",
        "outputId": "80e5d5dc-deb1-439c-add7-ba70828db02a"
      },
      "outputs": [
        {
          "name": "stdout",
          "output_type": "stream",
          "text": [
            "Model: \"ocr_model_v1\"\n",
            "__________________________________________________________________________________________________\n",
            "Layer (type)                    Output Shape         Param #     Connected to                     \n",
            "==================================================================================================\n",
            "image (InputLayer)              [(None, 50, 200, 1)] 0                                            \n",
            "__________________________________________________________________________________________________\n",
            "Permute (Permute)               (None, 200, 50, 1)   0           image[0][0]                      \n",
            "__________________________________________________________________________________________________\n",
            "Conv1 (Conv2D)                  (None, 200, 50, 32)  320         Permute[0][0]                    \n",
            "__________________________________________________________________________________________________\n",
            "Pool1 (MaxPooling2D)            (None, 100, 25, 32)  0           Conv1[0][0]                      \n",
            "__________________________________________________________________________________________________\n",
            "Conv2 (Conv2D)                  (None, 100, 25, 64)  18496       Pool1[0][0]                      \n",
            "__________________________________________________________________________________________________\n",
            "MaxPool2 (MaxPooling2D)         (None, 50, 12, 64)   0           Conv2[0][0]                      \n",
            "__________________________________________________________________________________________________\n",
            "Reshape (Reshape)               (None, 50, 768)      0           MaxPool2[0][0]                   \n",
            "__________________________________________________________________________________________________\n",
            "Dense1 (Dense)                  (None, 50, 64)       49216       Reshape[0][0]                    \n",
            "__________________________________________________________________________________________________\n",
            "Dropout (Dropout)               (None, 50, 64)       0           Dense1[0][0]                     \n",
            "__________________________________________________________________________________________________\n",
            "LSTM1 (Bidirectional)           (None, 50, 256)      197632      Dropout[0][0]                    \n",
            "__________________________________________________________________________________________________\n",
            "LSTM2 (Bidirectional)           (None, 50, 128)      164352      LSTM1[0][0]                      \n",
            "__________________________________________________________________________________________________\n",
            "label (InputLayer)              [(None, None)]       0                                            \n",
            "__________________________________________________________________________________________________\n",
            "Dense2 (Dense)                  (None, 50, 68)       8772        LSTM2[0][0]                      \n",
            "__________________________________________________________________________________________________\n",
            "CTCloss (CTCLayer)              (None, 50, 68)       0           label[0][0]                      \n",
            "                                                                 Dense2[0][0]                     \n",
            "==================================================================================================\n",
            "Total params: 438,788\n",
            "Trainable params: 438,788\n",
            "Non-trainable params: 0\n",
            "__________________________________________________________________________________________________\n"
          ]
        }
      ],
      "source": [
        "# Create the model\n",
        "optimizer = keras.optimizers.Adam()\n",
        "model = None\n",
        "gc.collect()\n",
        "model = ocr_model_v1((img_h, img_w), n_channels, num_characters, optimizer)\n",
        "model.summary()"
      ]
    },
    {
      "cell_type": "markdown",
      "metadata": {
        "id": "_3HdmPa9oB4h"
      },
      "source": [
        "#5. Training configuration"
      ]
    },
    {
      "cell_type": "markdown",
      "metadata": {
        "id": "afu8PfgcoSTq"
      },
      "source": [
        "##General parameters, general callbacks"
      ]
    },
    {
      "cell_type": "code",
      "execution_count": 42,
      "metadata": {
        "id": "G8QWeTOIsRdT"
      },
      "outputs": [],
      "source": [
        "epochs = 200 #1000\n",
        "\n",
        "# Early stopping configuration\n",
        "early_stopping_patience = 20 #50\n",
        "early_stopping = keras.callbacks.EarlyStopping(\n",
        "    monitor=\"val_loss\", patience=early_stopping_patience, verbose=1, restore_best_weights=True\n",
        ")\n",
        "\n",
        "# Save model checkpoint configuration\n",
        "save_checkpoint = tf.keras.callbacks.ModelCheckpoint(\n",
        "    monitor=\"val_loss\", mode='auto', filepath=checkpoint_dir, save_weights_only=True, save_best_only=True\n",
        ")\n",
        "\n",
        "# Remove previous log folder\n",
        "if os.path.exists(log_dir):\n",
        "    shutil.rmtree(log_dir)\n",
        "# Recreate log folder\n",
        "if not os.path.exists(log_dir):\n",
        "    os.makedirs(log_dir)\n",
        "# TensorBoard configuration\n",
        "tensorboard_callback = keras.callbacks.TensorBoard(log_dir=log_dir)"
      ]
    },
    {
      "cell_type": "markdown",
      "metadata": {
        "id": "yggxoS5CoWYf"
      },
      "source": [
        "##Specific callbacks"
      ]
    },
    {
      "cell_type": "code",
      "execution_count": 43,
      "metadata": {
        "id": "FSR0ayAiBqaY"
      },
      "outputs": [],
      "source": [
        "# Learning rate scheduler\n",
        "n_epochs_before_lr_decrease = 100\n",
        "# Keep the initial learning rate for the first n_epochs_before_lr_decrease and decrease exponentially after that\n",
        "def lr_schedule(epoch, lr):\n",
        "    if epoch < n_epochs_before_lr_decrease:\n",
        "        return lr\n",
        "    else:\n",
        "        return lr * tf.math.exp(-0.1)\n",
        "lr_scheduler = tf.keras.callbacks.LearningRateScheduler(lr_schedule)\n",
        "\n",
        "# Reduce learning rate on plateau configuration\n",
        "on_plateau_patience = 10\n",
        "on_plateau_min_delta = 0.0001\n",
        "on_plateau_min_lr = 1e-5\n",
        "reduce_lr_on_plateau = tf.keras.callbacks.ReduceLROnPlateau(\n",
        "    monitor='val_loss', factor=0.2, patience=on_plateau_patience, verbose=1, mode='auto', \n",
        "    min_delta=on_plateau_min_delta, cooldown=0, min_lr=on_plateau_min_lr\n",
        ")"
      ]
    },
    {
      "cell_type": "markdown",
      "metadata": {
        "id": "F-mPhhtfoej5"
      },
      "source": [
        "##TensorBoard"
      ]
    },
    {
      "cell_type": "code",
      "execution_count": null,
      "metadata": {
        "id": "hP2RD9jMNQZY"
      },
      "outputs": [],
      "source": [
        "# Load the TensorBoard notebook extension\n",
        "%load_ext tensorboard"
      ]
    },
    {
      "cell_type": "code",
      "execution_count": null,
      "metadata": {
        "colab": {
          "base_uri": "https://localhost:8080/"
        },
        "id": "vvBnzdvJO4cw",
        "outputId": "7220c7ea-24e2-4838-d416-009448d9c14b"
      },
      "outputs": [
        {
          "name": "stdout",
          "output_type": "stream",
          "text": [
            "/content/drive/My Drive/Machine Learning/Stolen Vehicle Detector/OCR/training/logs/\n"
          ]
        }
      ],
      "source": [
        "print(log_dir)"
      ]
    },
    {
      "cell_type": "code",
      "execution_count": null,
      "metadata": {
        "id": "z7-ViXB6NXnG"
      },
      "outputs": [],
      "source": [
        "%tensorboard --logdir \"/content/drive/My Drive/Machine Learning/Stolen Vehicle Detector/OCR/training/logs/\""
      ]
    },
    {
      "cell_type": "markdown",
      "metadata": {
        "id": "dIouh4OQonJC"
      },
      "source": [
        "#6. Training"
      ]
    },
    {
      "cell_type": "code",
      "execution_count": null,
      "metadata": {
        "colab": {
          "base_uri": "https://localhost:8080/"
        },
        "id": "5106ie0qsRdU",
        "outputId": "f5da1b2c-e2f9-48ec-aaad-915e495c3c7b"
      },
      "outputs": [
        {
          "name": "stdout",
          "output_type": "stream",
          "text": [
            "Epoch 1/200\n",
            "59/59 [==============================] - 42s 88ms/step - loss: 56.2490 - val_loss: 16.7952\n",
            "Epoch 2/200\n",
            "59/59 [==============================] - 2s 37ms/step - loss: 16.7064 - val_loss: 16.5432\n",
            "Epoch 3/200\n",
            "59/59 [==============================] - 2s 36ms/step - loss: 16.4667 - val_loss: 16.5576\n",
            "Epoch 4/200\n",
            "59/59 [==============================] - 2s 36ms/step - loss: 16.3964 - val_loss: 16.4998\n",
            "Epoch 5/200\n",
            "59/59 [==============================] - 2s 36ms/step - loss: 16.4122 - val_loss: 16.4696\n",
            "Epoch 6/200\n",
            "59/59 [==============================] - 2s 35ms/step - loss: 16.3589 - val_loss: 16.3962\n",
            "Epoch 7/200\n",
            "59/59 [==============================] - 2s 35ms/step - loss: 16.3857 - val_loss: 16.4417\n",
            "Epoch 8/200\n",
            "59/59 [==============================] - 2s 34ms/step - loss: 16.4023 - val_loss: 16.3857\n",
            "Epoch 9/200\n",
            "59/59 [==============================] - 2s 34ms/step - loss: 16.3849 - val_loss: 16.3999\n",
            "Epoch 10/200\n",
            "59/59 [==============================] - 2s 36ms/step - loss: 16.3449 - val_loss: 16.3714\n",
            "Epoch 11/200\n",
            "59/59 [==============================] - 2s 36ms/step - loss: 16.3557 - val_loss: 16.3579\n",
            "Epoch 12/200\n",
            "59/59 [==============================] - 2s 37ms/step - loss: 16.3432 - val_loss: 16.3808\n",
            "Epoch 13/200\n",
            "59/59 [==============================] - 2s 39ms/step - loss: 16.3635 - val_loss: 16.3832\n",
            "Epoch 14/200\n",
            "59/59 [==============================] - 2s 38ms/step - loss: 16.3786 - val_loss: 16.3368\n",
            "Epoch 15/200\n",
            "59/59 [==============================] - 2s 37ms/step - loss: 16.3449 - val_loss: 16.3991\n",
            "Epoch 16/200\n",
            "59/59 [==============================] - 2s 37ms/step - loss: 16.3666 - val_loss: 16.4540\n",
            "Epoch 17/200\n",
            "59/59 [==============================] - 2s 40ms/step - loss: 16.3108 - val_loss: 16.3245\n",
            "Epoch 18/200\n",
            "59/59 [==============================] - 2s 36ms/step - loss: 16.3372 - val_loss: 16.3390\n",
            "Epoch 19/200\n",
            "59/59 [==============================] - 2s 34ms/step - loss: 16.3349 - val_loss: 16.3386\n",
            "Epoch 20/200\n",
            "59/59 [==============================] - 2s 36ms/step - loss: 16.3111 - val_loss: 16.3070\n",
            "Epoch 21/200\n",
            "59/59 [==============================] - 2s 37ms/step - loss: 16.3211 - val_loss: 16.2945\n",
            "Epoch 22/200\n",
            "59/59 [==============================] - 2s 35ms/step - loss: 16.3128 - val_loss: 16.2827\n",
            "Epoch 23/200\n",
            "59/59 [==============================] - 2s 35ms/step - loss: 16.2714 - val_loss: 16.3319\n",
            "Epoch 24/200\n",
            "59/59 [==============================] - 2s 35ms/step - loss: 16.2371 - val_loss: 16.2908\n",
            "Epoch 25/200\n",
            "59/59 [==============================] - 2s 35ms/step - loss: 16.2571 - val_loss: 16.2225\n",
            "Epoch 26/200\n",
            "59/59 [==============================] - 2s 35ms/step - loss: 16.1777 - val_loss: 16.2246\n",
            "Epoch 27/200\n",
            "59/59 [==============================] - 2s 37ms/step - loss: 16.1923 - val_loss: 16.1615\n",
            "Epoch 28/200\n",
            "59/59 [==============================] - 2s 38ms/step - loss: 16.0821 - val_loss: 16.1682\n",
            "Epoch 29/200\n",
            "59/59 [==============================] - 2s 38ms/step - loss: 16.0166 - val_loss: 16.0922\n",
            "Epoch 30/200\n",
            "59/59 [==============================] - 2s 39ms/step - loss: 15.9298 - val_loss: 16.1287\n",
            "Epoch 31/200\n",
            "59/59 [==============================] - 2s 40ms/step - loss: 15.9564 - val_loss: 16.1196\n",
            "Epoch 32/200\n",
            "59/59 [==============================] - 2s 36ms/step - loss: 15.9864 - val_loss: 16.0310\n",
            "Epoch 33/200\n",
            "59/59 [==============================] - 2s 37ms/step - loss: 15.8917 - val_loss: 16.0993\n",
            "Epoch 34/200\n",
            "59/59 [==============================] - 2s 38ms/step - loss: 15.9552 - val_loss: 16.0670\n",
            "Epoch 35/200\n",
            "59/59 [==============================] - 2s 37ms/step - loss: 15.8585 - val_loss: 15.9570\n",
            "Epoch 36/200\n",
            "59/59 [==============================] - 2s 35ms/step - loss: 15.7954 - val_loss: 15.7718\n",
            "Epoch 37/200\n",
            "59/59 [==============================] - 2s 38ms/step - loss: 15.5199 - val_loss: 15.7278\n",
            "Epoch 38/200\n",
            "59/59 [==============================] - 2s 35ms/step - loss: 15.5144 - val_loss: 15.6572\n",
            "Epoch 39/200\n",
            "59/59 [==============================] - 2s 34ms/step - loss: 15.3398 - val_loss: 15.5936\n",
            "Epoch 40/200\n",
            "59/59 [==============================] - 2s 34ms/step - loss: 15.2496 - val_loss: 15.4688\n",
            "Epoch 41/200\n",
            "59/59 [==============================] - 2s 36ms/step - loss: 15.1807 - val_loss: 15.3822\n",
            "Epoch 42/200\n",
            "59/59 [==============================] - 2s 34ms/step - loss: 15.0920 - val_loss: 15.2254\n",
            "Epoch 43/200\n",
            "59/59 [==============================] - 2s 36ms/step - loss: 14.8890 - val_loss: 14.9971\n",
            "Epoch 44/200\n",
            "59/59 [==============================] - 2s 35ms/step - loss: 14.7053 - val_loss: 14.7523\n",
            "Epoch 45/200\n",
            "59/59 [==============================] - 2s 35ms/step - loss: 14.4945 - val_loss: 14.6330\n",
            "Epoch 46/200\n",
            "59/59 [==============================] - 2s 38ms/step - loss: 14.3543 - val_loss: 14.4508\n",
            "Epoch 47/200\n",
            "59/59 [==============================] - 2s 36ms/step - loss: 13.9805 - val_loss: 14.3317\n",
            "Epoch 48/200\n",
            "59/59 [==============================] - 2s 38ms/step - loss: 13.8241 - val_loss: 13.7821\n",
            "Epoch 49/200\n",
            "59/59 [==============================] - 2s 37ms/step - loss: 13.5449 - val_loss: 13.6860\n",
            "Epoch 50/200\n",
            "59/59 [==============================] - 2s 37ms/step - loss: 13.4421 - val_loss: 13.5810\n",
            "Epoch 51/200\n",
            "59/59 [==============================] - 2s 37ms/step - loss: 13.2170 - val_loss: 13.3942\n",
            "Epoch 52/200\n",
            "59/59 [==============================] - 2s 37ms/step - loss: 13.0473 - val_loss: 13.2000\n",
            "Epoch 53/200\n",
            "59/59 [==============================] - 2s 35ms/step - loss: 12.7232 - val_loss: 12.9593\n",
            "Epoch 54/200\n",
            "59/59 [==============================] - 2s 37ms/step - loss: 12.5369 - val_loss: 12.9652\n",
            "Epoch 55/200\n",
            "59/59 [==============================] - 2s 36ms/step - loss: 12.3347 - val_loss: 12.7856\n",
            "Epoch 56/200\n",
            "59/59 [==============================] - 2s 35ms/step - loss: 12.1613 - val_loss: 12.6571\n",
            "Epoch 57/200\n",
            "59/59 [==============================] - 2s 34ms/step - loss: 12.0358 - val_loss: 12.7555\n",
            "Epoch 58/200\n",
            "59/59 [==============================] - 2s 34ms/step - loss: 11.9328 - val_loss: 12.2251\n",
            "Epoch 59/200\n",
            "59/59 [==============================] - 2s 35ms/step - loss: 11.6034 - val_loss: 12.1894\n",
            "Epoch 60/200\n",
            "59/59 [==============================] - 2s 36ms/step - loss: 11.2947 - val_loss: 11.9125\n",
            "Epoch 61/200\n",
            "59/59 [==============================] - 2s 37ms/step - loss: 11.1353 - val_loss: 11.7407\n",
            "Epoch 62/200\n",
            "59/59 [==============================] - 2s 39ms/step - loss: 10.8963 - val_loss: 11.6041\n",
            "Epoch 63/200\n",
            "59/59 [==============================] - 2s 35ms/step - loss: 10.6286 - val_loss: 11.3459\n",
            "Epoch 64/200\n",
            "59/59 [==============================] - 2s 36ms/step - loss: 10.3327 - val_loss: 11.2551\n",
            "Epoch 65/200\n",
            "59/59 [==============================] - 2s 37ms/step - loss: 10.2516 - val_loss: 10.6738\n",
            "Epoch 66/200\n",
            "59/59 [==============================] - 2s 34ms/step - loss: 9.7820 - val_loss: 10.4060\n",
            "Epoch 67/200\n",
            "59/59 [==============================] - 2s 35ms/step - loss: 9.4490 - val_loss: 10.2237\n",
            "Epoch 68/200\n",
            "59/59 [==============================] - 2s 35ms/step - loss: 9.3197 - val_loss: 9.7970\n",
            "Epoch 69/200\n",
            "59/59 [==============================] - 2s 36ms/step - loss: 8.6259 - val_loss: 9.0966\n",
            "Epoch 70/200\n",
            "59/59 [==============================] - 2s 40ms/step - loss: 8.2137 - val_loss: 8.4642\n",
            "Epoch 71/200\n",
            "59/59 [==============================] - 2s 37ms/step - loss: 7.6509 - val_loss: 7.2497\n",
            "Epoch 72/200\n",
            "59/59 [==============================] - 2s 37ms/step - loss: 6.6044 - val_loss: 4.9767\n",
            "Epoch 73/200\n",
            "59/59 [==============================] - 2s 36ms/step - loss: 4.8072 - val_loss: 3.1382\n",
            "Epoch 74/200\n",
            "59/59 [==============================] - 2s 39ms/step - loss: 3.4880 - val_loss: 2.6602\n",
            "Epoch 75/200\n",
            "59/59 [==============================] - 2s 36ms/step - loss: 2.8516 - val_loss: 2.3089\n",
            "Epoch 76/200\n",
            "59/59 [==============================] - 2s 36ms/step - loss: 2.3130 - val_loss: 1.9918\n",
            "Epoch 77/200\n",
            "59/59 [==============================] - 2s 39ms/step - loss: 1.9058 - val_loss: 1.6173\n",
            "Epoch 78/200\n",
            "59/59 [==============================] - 2s 38ms/step - loss: 1.6526 - val_loss: 1.3637\n",
            "Epoch 79/200\n",
            "59/59 [==============================] - 2s 34ms/step - loss: 1.4567 - val_loss: 1.1987\n",
            "Epoch 80/200\n",
            "59/59 [==============================] - 2s 35ms/step - loss: 1.2040 - val_loss: 1.1176\n",
            "Epoch 81/200\n",
            "59/59 [==============================] - 2s 35ms/step - loss: 0.9721 - val_loss: 1.0594\n",
            "Epoch 82/200\n",
            "59/59 [==============================] - 2s 35ms/step - loss: 0.9051 - val_loss: 0.9039\n",
            "Epoch 83/200\n",
            "59/59 [==============================] - 2s 39ms/step - loss: 0.8169 - val_loss: 0.7685\n",
            "Epoch 84/200\n",
            "59/59 [==============================] - 2s 38ms/step - loss: 0.7178 - val_loss: 0.6055\n",
            "Epoch 85/200\n",
            "59/59 [==============================] - 2s 36ms/step - loss: 0.5940 - val_loss: 0.6329\n",
            "Epoch 86/200\n",
            "59/59 [==============================] - 2s 39ms/step - loss: 0.5716 - val_loss: 0.5152\n",
            "Epoch 87/200\n",
            "59/59 [==============================] - 2s 38ms/step - loss: 0.5544 - val_loss: 0.4479\n",
            "Epoch 88/200\n",
            "59/59 [==============================] - 2s 38ms/step - loss: 0.4245 - val_loss: 0.3951\n",
            "Epoch 89/200\n",
            "59/59 [==============================] - 2s 35ms/step - loss: 0.3933 - val_loss: 0.4304\n",
            "Epoch 90/200\n",
            "59/59 [==============================] - 2s 38ms/step - loss: 0.3401 - val_loss: 0.5703\n",
            "Epoch 91/200\n",
            "59/59 [==============================] - 2s 37ms/step - loss: 0.3412 - val_loss: 0.4606\n",
            "Epoch 92/200\n",
            "59/59 [==============================] - 2s 35ms/step - loss: 0.3616 - val_loss: 0.4192\n",
            "Epoch 93/200\n",
            "59/59 [==============================] - 2s 35ms/step - loss: 0.3848 - val_loss: 0.3355\n",
            "Epoch 94/200\n",
            "59/59 [==============================] - 2s 38ms/step - loss: 0.3033 - val_loss: 0.3682\n",
            "Epoch 95/200\n",
            "59/59 [==============================] - 2s 36ms/step - loss: 0.2394 - val_loss: 0.2736\n",
            "Epoch 96/200\n",
            "59/59 [==============================] - 2s 34ms/step - loss: 0.2170 - val_loss: 0.4178\n",
            "Epoch 97/200\n",
            "59/59 [==============================] - 2s 34ms/step - loss: 0.2172 - val_loss: 0.3786\n",
            "Epoch 98/200\n",
            "59/59 [==============================] - 2s 35ms/step - loss: 0.2090 - val_loss: 0.2810\n",
            "Epoch 99/200\n",
            "59/59 [==============================] - 2s 37ms/step - loss: 0.1980 - val_loss: 0.3143\n",
            "Epoch 100/200\n",
            "59/59 [==============================] - 2s 38ms/step - loss: 0.2682 - val_loss: 0.3430\n",
            "Epoch 101/200\n",
            "59/59 [==============================] - 2s 37ms/step - loss: 0.2114 - val_loss: 0.2962\n",
            "Epoch 102/200\n",
            "59/59 [==============================] - 2s 35ms/step - loss: 0.1678 - val_loss: 0.3393\n",
            "Epoch 103/200\n",
            "59/59 [==============================] - 2s 35ms/step - loss: 0.1184 - val_loss: 0.2713\n",
            "Epoch 104/200\n",
            "59/59 [==============================] - 2s 37ms/step - loss: 0.1375 - val_loss: 0.3551\n",
            "Epoch 105/200\n",
            "59/59 [==============================] - 2s 36ms/step - loss: 0.1374 - val_loss: 0.3961\n",
            "Epoch 106/200\n",
            "59/59 [==============================] - 2s 34ms/step - loss: 0.1805 - val_loss: 0.3305\n",
            "Epoch 107/200\n",
            "59/59 [==============================] - 2s 38ms/step - loss: 0.1532 - val_loss: 0.2721\n",
            "Epoch 108/200\n",
            "59/59 [==============================] - 2s 36ms/step - loss: 0.1350 - val_loss: 0.2977\n",
            "Epoch 109/200\n",
            "59/59 [==============================] - 2s 35ms/step - loss: 0.1290 - val_loss: 0.1320\n",
            "Epoch 110/200\n",
            "59/59 [==============================] - 2s 35ms/step - loss: 0.1618 - val_loss: 0.2613\n",
            "Epoch 111/200\n",
            "59/59 [==============================] - 2s 33ms/step - loss: 0.1393 - val_loss: 0.2840\n",
            "Epoch 112/200\n",
            "59/59 [==============================] - 2s 37ms/step - loss: 0.1034 - val_loss: 0.2371\n",
            "Epoch 113/200\n",
            "59/59 [==============================] - 2s 38ms/step - loss: 0.1075 - val_loss: 0.1412\n",
            "Epoch 114/200\n",
            "59/59 [==============================] - 2s 36ms/step - loss: 0.0737 - val_loss: 0.1844\n",
            "Epoch 115/200\n",
            "59/59 [==============================] - 2s 38ms/step - loss: 0.0649 - val_loss: 0.2337\n",
            "Epoch 116/200\n",
            "59/59 [==============================] - 2s 37ms/step - loss: 0.0876 - val_loss: 0.2034\n",
            "Epoch 117/200\n",
            "59/59 [==============================] - 2s 36ms/step - loss: 0.1087 - val_loss: 0.4301\n",
            "Epoch 118/200\n",
            "59/59 [==============================] - 2s 39ms/step - loss: 0.2194 - val_loss: 0.1984\n",
            "Epoch 119/200\n",
            "59/59 [==============================] - 2s 37ms/step - loss: 0.0846 - val_loss: 0.3200\n",
            "Epoch 120/200\n",
            "59/59 [==============================] - 2s 35ms/step - loss: 0.0660 - val_loss: 0.3597\n",
            "Epoch 121/200\n",
            "59/59 [==============================] - 2s 35ms/step - loss: 0.0639 - val_loss: 0.2818\n",
            "Epoch 122/200\n",
            "59/59 [==============================] - 2s 37ms/step - loss: 0.0698 - val_loss: 0.3302\n",
            "Epoch 123/200\n",
            "59/59 [==============================] - 2s 36ms/step - loss: 0.0818 - val_loss: 0.2863\n",
            "Epoch 124/200\n",
            "59/59 [==============================] - 2s 40ms/step - loss: 0.0589 - val_loss: 0.2693\n",
            "Epoch 125/200\n",
            "59/59 [==============================] - 2s 40ms/step - loss: 0.0452 - val_loss: 0.2418\n",
            "Epoch 126/200\n",
            "59/59 [==============================] - 2s 35ms/step - loss: 0.0679 - val_loss: 0.2624\n",
            "Epoch 127/200\n",
            "59/59 [==============================] - 2s 33ms/step - loss: 0.1157 - val_loss: 0.3476\n",
            "Epoch 128/200\n",
            "59/59 [==============================] - 2s 35ms/step - loss: 0.1167 - val_loss: 0.2579\n",
            "Epoch 129/200\n",
            "59/59 [==============================] - 2s 34ms/step - loss: 0.0592 - val_loss: 0.3034\n",
            "Restoring model weights from the end of the best epoch.\n",
            "Epoch 00129: early stopping\n"
          ]
        }
      ],
      "source": [
        "#Train the model\n",
        "training_history = model.fit(\n",
        "    train.dataset,\n",
        "    validation_data=validation.dataset,\n",
        "    epochs=epochs,\n",
        "    callbacks=[early_stopping, save_checkpoint, tensorboard_callback]\n",
        ")"
      ]
    },
    {
      "cell_type": "code",
      "execution_count": null,
      "metadata": {
        "id": "1kd1agQjBqaY"
      },
      "outputs": [],
      "source": [
        "best_loss = min(training_history.history[\"val_loss\"])\n",
        "n_epoch_trained = 129"
      ]
    },
    {
      "cell_type": "markdown",
      "metadata": {
        "id": "vJzkG74lDj9z"
      },
      "source": [
        "#7. Evaluation"
      ]
    },
    {
      "cell_type": "code",
      "execution_count": null,
      "metadata": {
        "colab": {
          "base_uri": "https://localhost:8080/"
        },
        "id": "Hds6Z7vIDWQS",
        "outputId": "818286d0-bb12-4852-b78d-bae367d9c47b"
      },
      "outputs": [
        {
          "name": "stdout",
          "output_type": "stream",
          "text": [
            "7/7 - 0s - loss: 0.1320\n",
            "loss: 0.1320\n"
          ]
        }
      ],
      "source": [
        "loss = model.evaluate(validation.dataset, verbose=2)\n",
        "print(\"loss: {:2.4f}\".format(loss))"
      ]
    },
    {
      "cell_type": "markdown",
      "metadata": {
        "id": "zH3Db3USouVO"
      },
      "source": [
        "#8. Model I/O"
      ]
    },
    {
      "cell_type": "markdown",
      "metadata": {
        "id": "Nmk-AZrWpFeY"
      },
      "source": [
        "##Save model"
      ]
    },
    {
      "cell_type": "code",
      "execution_count": null,
      "metadata": {
        "colab": {
          "base_uri": "https://localhost:8080/"
        },
        "id": "JcLea_vosRdU",
        "outputId": "76471067-3370-4471-fb22-be7ddb1c0aea"
      },
      "outputs": [
        {
          "name": "stderr",
          "output_type": "stream",
          "text": [
            "WARNING:absl:Found untraced functions such as lstm_cell_1_layer_call_and_return_conditional_losses, lstm_cell_1_layer_call_fn, lstm_cell_2_layer_call_and_return_conditional_losses, lstm_cell_2_layer_call_fn, lstm_cell_4_layer_call_and_return_conditional_losses while saving (showing 5 of 20). These functions will not be directly callable after loading.\n",
            "WARNING:absl:Found untraced functions such as lstm_cell_1_layer_call_and_return_conditional_losses, lstm_cell_1_layer_call_fn, lstm_cell_2_layer_call_and_return_conditional_losses, lstm_cell_2_layer_call_fn, lstm_cell_4_layer_call_and_return_conditional_losses while saving (showing 5 of 20). These functions will not be directly callable after loading.\n"
          ]
        },
        {
          "name": "stdout",
          "output_type": "stream",
          "text": [
            "INFO:tensorflow:Assets written to: /content/drive/My Drive/Machine Learning/Stolen Vehicle Detector/OCR/model/keras/ocr_model_v1_20210322-190832_captcha_epoch129_loss0.1320/assets\n"
          ]
        },
        {
          "name": "stderr",
          "output_type": "stream",
          "text": [
            "INFO:tensorflow:Assets written to: /content/drive/My Drive/Machine Learning/Stolen Vehicle Detector/OCR/model/keras/ocr_model_v1_20210322-190832_captcha_epoch129_loss0.1320/assets\n"
          ]
        },
        {
          "name": "stdout",
          "output_type": "stream",
          "text": [
            "Model saved: ocr_model_v1_20210322-190832_captcha_epoch129_loss0.1320\n"
          ]
        }
      ],
      "source": [
        "current_time = datetime.now().strftime(\"%Y%m%d-%H%M%S\")\n",
        "model_name = f\"{model.name}_{current_time}_captcha_epoch{n_epoch_trained}_loss{'{0:.4f}'.format(best_loss)}\"\n",
        "model.save(f\"{keras_dir}{model_name}\")\n",
        "print(f\"Model saved: {model_name}\")"
      ]
    },
    {
      "cell_type": "markdown",
      "metadata": {
        "id": "PiDDb0kupH3a"
      },
      "source": [
        "##Load model"
      ]
    },
    {
      "cell_type": "code",
      "execution_count": null,
      "metadata": {
        "colab": {
          "base_uri": "https://localhost:8080/"
        },
        "id": "8EFWXlihsRdU",
        "outputId": "a67ef7b7-40dd-4776-9ac5-4ab81cd66902"
      },
      "outputs": [
        {
          "name": "stdout",
          "output_type": "stream",
          "text": [
            "7/7 - 2s - loss: 0.0480\n",
            "Loaded model, loss: 0.0480\n"
          ]
        }
      ],
      "source": [
        "model_name = f\"ocr_model_v1_20210313-221222_captcha_epoch75_loss0.0480\"\n",
        "model = keras.models.load_model(f\"{keras_dir}{model_name}\")\n",
        "\n",
        "# Re-evaluate the model\n",
        "loss = model.evaluate(validation.dataset, verbose=2)\n",
        "print(\"Loaded model, loss: {:2.4f}\".format(loss))"
      ]
    },
    {
      "cell_type": "markdown",
      "metadata": {
        "id": "reRu4trdpMvC"
      },
      "source": [
        "##Load weights"
      ]
    },
    {
      "cell_type": "code",
      "execution_count": null,
      "metadata": {
        "colab": {
          "base_uri": "https://localhost:8080/"
        },
        "id": "fJRj-AsMBqaZ",
        "outputId": "8fb8ecd6-ff3b-4dc6-f298-75c31c017bdb"
      },
      "outputs": [
        {
          "name": "stdout",
          "output_type": "stream",
          "text": [
            "7/7 - 31s - loss: 0.0480\n",
            "Loaded model, loss: 0.0480\n"
          ]
        }
      ],
      "source": [
        "# Loads the weights\n",
        "model.load_weights(checkpoint_dir)\n",
        "\n",
        "# Re-evaluate the model\n",
        "loss = model.evaluate(validation.dataset, verbose=2)\n",
        "print(\"Loaded model, loss: {:2.4f}\".format(loss))"
      ]
    },
    {
      "cell_type": "markdown",
      "metadata": {
        "id": "IMKMc-_tpSab"
      },
      "source": [
        "#9. Inference model\n",
        "\n",
        ">Create the pure prediction model & run inference on it."
      ]
    },
    {
      "cell_type": "markdown",
      "metadata": {
        "id": "J2RKblYYqH8M"
      },
      "source": [
        "##Build prediction model"
      ]
    },
    {
      "cell_type": "code",
      "execution_count": null,
      "metadata": {
        "colab": {
          "base_uri": "https://localhost:8080/"
        },
        "id": "h9cTV0SesRdU",
        "outputId": "07ecf287-6b2b-4fd4-c5c7-d4de2367448f"
      },
      "outputs": [
        {
          "name": "stdout",
          "output_type": "stream",
          "text": [
            "Model: \"model\"\n",
            "_________________________________________________________________\n",
            "Layer (type)                 Output Shape              Param #   \n",
            "=================================================================\n",
            "image (InputLayer)           [(None, 50, 200, 1)]      0         \n",
            "_________________________________________________________________\n",
            "Permute (Permute)            (None, 200, 50, 1)        0         \n",
            "_________________________________________________________________\n",
            "Conv1 (Conv2D)               (None, 200, 50, 32)       320       \n",
            "_________________________________________________________________\n",
            "Pool1 (MaxPooling2D)         (None, 100, 25, 32)       0         \n",
            "_________________________________________________________________\n",
            "Conv2 (Conv2D)               (None, 100, 25, 64)       18496     \n",
            "_________________________________________________________________\n",
            "MaxPool2 (MaxPooling2D)      (None, 50, 12, 64)        0         \n",
            "_________________________________________________________________\n",
            "Reshape (Reshape)            (None, 50, 768)           0         \n",
            "_________________________________________________________________\n",
            "Dense1 (Dense)               (None, 50, 64)            49216     \n",
            "_________________________________________________________________\n",
            "Dropout (Dropout)            (None, 50, 64)            0         \n",
            "_________________________________________________________________\n",
            "LSTM1 (Bidirectional)        (None, 50, 256)           197632    \n",
            "_________________________________________________________________\n",
            "LSTM2 (Bidirectional)        (None, 50, 128)           164352    \n",
            "_________________________________________________________________\n",
            "Dense2 (Dense)               (None, 50, 68)            8772      \n",
            "=================================================================\n",
            "Total params: 438,788\n",
            "Trainable params: 438,788\n",
            "Non-trainable params: 0\n",
            "_________________________________________________________________\n"
          ]
        }
      ],
      "source": [
        "prediction_model = None\n",
        "gc.collect()\n",
        "prediction_model = keras.models.Model(\n",
        "    model.get_layer(name=\"image\").input, model.get_layer(name=\"Dense2\").output)\n",
        "prediction_model.summary()"
      ]
    },
    {
      "cell_type": "markdown",
      "metadata": {
        "id": "lgd4zy9qp1pg"
      },
      "source": [
        "##Run inference"
      ]
    },
    {
      "cell_type": "code",
      "execution_count": null,
      "metadata": {
        "id": "b6mWIMpOsRdU"
      },
      "outputs": [],
      "source": [
        "# A utility function to decode the output of the network\n",
        "def batch_ctc_decode(preds, max_length):\n",
        "    input_len = np.ones(preds.shape[0]) * preds.shape[1]\n",
        "    # Use greedy search. For complex tasks, you can use beam search\n",
        "    results = keras.backend.ctc_decode(preds, input_length=input_len, greedy=True)[0][0][:, :max_length]\n",
        "    return results\n",
        "\n",
        "def show_inference_results(dataset_wrapper, model):\n",
        "\n",
        "    batch_size = dataset_wrapper.batch_size\n",
        "    img_in_line = 4\n",
        "    num_lines = dataset_wrapper.batch_size//img_in_line\n",
        "    img_size_w = 4\n",
        "    img_size_h = 2\n",
        "\n",
        "    _, ax = plt.subplots(num_lines, img_in_line, figsize=(img_in_line*img_size_w, num_lines*img_size_h))\n",
        "    \n",
        "    for batch in dataset_wrapper.dataset.take(1):\n",
        "        images = batch['image']\n",
        "        labels = batch['label']\n",
        "        preds = model.predict(images)\n",
        "        preds = batch_ctc_decode(preds, dataset_wrapper.max_block_length)\n",
        "\n",
        "        for i in range(batch_size):\n",
        "            img = dataset_wrapper.decode_image(images[i])\n",
        "            # if image has only one channel, drop channel dim to plot with matplotlib\n",
        "            if(img.shape[2] == 1):\n",
        "                img = img[:,:,0]\n",
        "\n",
        "            label = \"Truth: \" + dataset_wrapper.decode_label(labels[i], True) + \"\\nPred: \" + dataset_wrapper.decode_label(preds[i], True)\n",
        "            ax[i // img_in_line, i % img_in_line].imshow(img)\n",
        "            ax[i // img_in_line, i % img_in_line].set_title(label)\n",
        "    plt.show()"
      ]
    },
    {
      "cell_type": "code",
      "execution_count": null,
      "metadata": {
        "colab": {
          "base_uri": "https://localhost:8080/",
          "height": 468
        },
        "id": "WZLurtassRdV",
        "outputId": "ee7d68f8-39a9-41f1-8ae2-1a843c349b40"
      },
      "outputs": [
        {
          "data": {
            "image/png": "[encoded data removed]",
            "text/plain": [
              "<Figure size 1152x576 with 16 Axes>"
            ]
          },
          "metadata": {
            "needs_background": "light",
            "tags": []
          },
          "output_type": "display_data"
        }
      ],
      "source": [
        "show_inference_results(validation, prediction_model)"
      ]
    },
    {
      "cell_type": "markdown",
      "metadata": {
        "id": "QsR9j5RzqU1r"
      },
      "source": [
        "#10. TFLite conversion"
      ]
    },
    {
      "cell_type": "markdown",
      "metadata": {
        "id": "Q9lvRiFtqko8"
      },
      "source": [
        "##Define source model, create individual tmp model"
      ]
    },
    {
      "cell_type": "code",
      "execution_count": null,
      "metadata": {
        "colab": {
          "base_uri": "https://localhost:8080/"
        },
        "id": "ga5DI8F6_osy",
        "outputId": "cfb46220-ce83-4661-9155-72ef1a60d6a6"
      },
      "outputs": [
        {
          "name": "stdout",
          "output_type": "stream",
          "text": [
            "WARNING:tensorflow:SavedModel saved prior to TF 2.5 detected when loading Keras model. Please ensure that you are saving the model with model.save() or tf.keras.models.save_model(), *NOT* tf.saved_model.save(). To confirm, there should be a file named \"keras_metadata.pb\" in the SavedModel directory.\n"
          ]
        },
        {
          "name": "stderr",
          "output_type": "stream",
          "text": [
            "WARNING:tensorflow:SavedModel saved prior to TF 2.5 detected when loading Keras model. Please ensure that you are saving the model with model.save() or tf.keras.models.save_model(), *NOT* tf.saved_model.save(). To confirm, there should be a file named \"keras_metadata.pb\" in the SavedModel directory.\n"
          ]
        },
        {
          "name": "stdout",
          "output_type": "stream",
          "text": [
            "KerasTensor(type_spec=TensorSpec(shape=(None, 50, 200, 1), dtype=tf.float32, name='image'), name='image', description=\"created by layer 'image'\")\n",
            "KerasTensor(type_spec=TensorSpec(shape=(None, 50, 68), dtype=tf.float32, name=None), name='Dense2/truediv:0', description=\"created by layer 'Dense2'\")\n",
            "KerasTensor(type_spec=TensorSpec(shape=(None, 50, 200, 1), dtype=tf.float32, name='image'), name='image', description=\"created by layer 'image'\")\n",
            "KerasTensor(type_spec=TensorSpec(shape=(None, 50, 68), dtype=tf.float32, name=None), name='Dense2/truediv:0', description=\"created by layer 'Dense2'\")\n",
            "WARNING:tensorflow:Compiled the loaded model, but the compiled metrics have yet to be built. `model.compile_metrics` will be empty until you train or evaluate the model.\n"
          ]
        },
        {
          "name": "stderr",
          "output_type": "stream",
          "text": [
            "WARNING:tensorflow:Compiled the loaded model, but the compiled metrics have yet to be built. `model.compile_metrics` will be empty until you train or evaluate the model.\n",
            "WARNING:absl:Found untraced functions such as Conv1_layer_call_fn, Conv2_layer_call_fn, Reshape_layer_call_fn, Dense1_layer_call_fn, Dropout_layer_call_fn while saving (showing 5 of 32). These functions will not be directly callable after loading.\n"
          ]
        },
        {
          "name": "stdout",
          "output_type": "stream",
          "text": [
            "INFO:tensorflow:Assets written to: /content/drive/My Drive/Machine Learning/Stolen Vehicle Detector/OCR/model/tmp/assets\n"
          ]
        },
        {
          "name": "stderr",
          "output_type": "stream",
          "text": [
            "INFO:tensorflow:Assets written to: /content/drive/My Drive/Machine Learning/Stolen Vehicle Detector/OCR/model/tmp/assets\n"
          ]
        },
        {
          "data": {
            "text/plain": [
              "661206"
            ]
          },
          "execution_count": 32,
          "metadata": {
            "tags": []
          },
          "output_type": "execute_result"
        }
      ],
      "source": [
        "model_name = f\"ocr_model_v1_20210322-190832_captcha_epoch129_loss0.1320\"\n",
        "\n",
        "#Save the pure prediction model to model_tmp_dir before the tflite conversion\n",
        "source_model = keras.models.load_model(f\"{keras_dir}{model_name}\")\n",
        "target_model = keras.models.Model(source_model.get_layer(name=\"image\").input, source_model.get_layer(name=\"Dense2\").output)\n",
        "print(target_model.get_layer(name=\"image\").input)\n",
        "print(target_model.get_layer(name=\"Dense2\").output)\n",
        "\n",
        "#target_model.input.set_shape((1, 50, 200, 1))\n",
        "#target_model.output.set_shape((1, 50, 68))\n",
        "print(target_model.get_layer(name=\"image\").input)\n",
        "print(target_model.get_layer(name=\"Dense2\").output)\n",
        "\n",
        "target_model.save(model_tmp_dir)\n",
        "source_model = None\n",
        "target_model = None\n",
        "gc.collect()"
      ]
    },
    {
      "cell_type": "markdown",
      "metadata": {
        "id": "S22QKiSqqwyR"
      },
      "source": [
        "##Convert to tflite\n",
        "\n",
        ">Note: Recurrent/LSTM layers have quantization issues due to a Tensorflow bug so full-integer quantization cannot be done at the moment (reason of uncommented lines). Dynamic range quantization is used, which reduces the size of the model to 1/4."
      ]
    },
    {
      "cell_type": "code",
      "execution_count": null,
      "metadata": {
        "id": "mt2q_IgRsRdV"
      },
      "outputs": [],
      "source": [
        "def representative_dataset():\n",
        "    \n",
        "     for item in train.dataset.take(100):\n",
        "\n",
        "         # to return shape=(batch_size x img) array\n",
        "         #image = item[\"image\"]\n",
        "\n",
        "         # to return shape=(1 x img) array\n",
        "         image = tf.expand_dims(item[\"image\"][0], axis=0)\n",
        "\n",
        "         yield image"
      ]
    },
    {
      "cell_type": "code",
      "execution_count": null,
      "metadata": {
        "colab": {
          "base_uri": "https://localhost:8080/",
          "height": 152
        },
        "id": "fgI6CBjcWjxZ",
        "outputId": "5f7f9fda-12ef-463f-c3d7-cc2f9b57fb7f"
      },
      "outputs": [
        {
          "name": "stdout",
          "output_type": "stream",
          "text": [
            "(1, 50, 200, 1)\n"
          ]
        },
        {
          "data": {
            "image/png": "[encoded data removed]",
            "text/plain": [
              "<Figure size 432x288 with 1 Axes>"
            ]
          },
          "metadata": {
            "needs_background": "light",
            "tags": []
          },
          "output_type": "display_data"
        }
      ],
      "source": [
        "img = next(representative_dataset())\n",
        "\n",
        "print(img.shape)\n",
        "img = train.decode_image(img[0])\n",
        "\n",
        "# if image has only one channel, drop channel dim to plot with matplotlib\n",
        "if(img.shape[2] == 1):\n",
        "    img = img[:,:,0]\n",
        "imgplot = plt.imshow(img)\n",
        "plt.show()"
      ]
    },
    {
      "cell_type": "code",
      "execution_count": null,
      "metadata": {
        "id": "SLmhHApqsRdV"
      },
      "outputs": [],
      "source": [
        "converter = tf.lite.TFLiteConverter.from_saved_model(model_tmp_dir)\n",
        "converter.experimental_new_converter = True\n",
        "converter.experimental_new_quantizer = True\n",
        "\n",
        "#Dynamic integer quantization\n",
        "converter.optimizations = [tf.lite.Optimize.DEFAULT]\n",
        "\n",
        "#Full integer quantization\n",
        "#converter.target_spec.supported_ops = [tf.lite.OpsSet.TFLITE_BUILTINS_INT8]\n",
        "#converter.inference_input_type = tf.int8\n",
        "#converter.inference_output_type = tf.int8\n",
        "#converter.representative_dataset = representative_dataset\n",
        "\n",
        "tflite_model = converter.convert()\n",
        "target_file_path = f\"{tflite_dir}{model_name}.tflite\"\n",
        "\n",
        "# Save the tflite model\n",
        "with open(target_file_path, 'wb') as f:\n",
        "  f.write(tflite_model)\n",
        "  print(f\"Model saved successfully to {target_file_path}\")"
      ]
    },
    {
      "cell_type": "markdown",
      "metadata": {
        "id": "GsmZhzz4tVNl"
      },
      "source": [
        "##TFLite model details"
      ]
    },
    {
      "cell_type": "code",
      "execution_count": null,
      "metadata": {
        "colab": {
          "base_uri": "https://localhost:8080/"
        },
        "id": "IP12-lKQsRdV",
        "outputId": "4fc39235-2dca-42ae-d76c-193dfd14dd64"
      },
      "outputs": [
        {
          "name": "stdout",
          "output_type": "stream",
          "text": [
            "input:  [{'name': 'serving_default_image:0', 'index': 0, 'shape': array([  1,  50, 200,   1], dtype=int32), 'shape_signature': array([ -1,  50, 200,   1], dtype=int32), 'dtype': <class 'numpy.float32'>, 'quantization': (0.0, 0), 'quantization_parameters': {'scales': array([], dtype=float32), 'zero_points': array([], dtype=int32), 'quantized_dimension': 0}, 'sparsity_parameters': {}}]\n",
            "type:  <class 'numpy.float32'>\n",
            "shape:  [  1  50 200   1]\n",
            "index:  0\n",
            "\n",
            "output:  [{'name': 'StatefulPartitionedCall:0', 'index': 123, 'shape': array([ 1,  1, 68], dtype=int32), 'shape_signature': array([-1, -1, 68], dtype=int32), 'dtype': <class 'numpy.float32'>, 'quantization': (0.0, 0), 'quantization_parameters': {'scales': array([], dtype=float32), 'zero_points': array([], dtype=int32), 'quantized_dimension': 0}, 'sparsity_parameters': {}}]\n",
            "type:  <class 'numpy.float32'>\n",
            "shape:  [ 1  1 68]\n",
            "index:  123\n"
          ]
        }
      ],
      "source": [
        "# Load the TFLite model\n",
        "interpreter = tf.lite.Interpreter(model_content=tflite_model)\n",
        "#interpreter = tf.lite.Interpreter(model_path=f\"{tflite_dir}model.tflite\")\n",
        "\n",
        "# Get input and output tensors\n",
        "input = interpreter.get_input_details()\n",
        "input_type = interpreter.get_input_details()[0]['dtype']\n",
        "input_shape = input[0]['shape']\n",
        "input_idx = input[0]['index']\n",
        "\n",
        "output = interpreter.get_output_details()\n",
        "output_type = interpreter.get_output_details()[0]['dtype']\n",
        "output_shape = output[0]['shape']\n",
        "output_idx = output[0]['index']\n",
        "\n",
        "print('input: ', input)\n",
        "print('type: ', input_type)\n",
        "print('shape: ', input_shape)\n",
        "print('index: ', input_idx)\n",
        "print()\n",
        "print('output: ', output)\n",
        "print('type: ', output_type)\n",
        "print('shape: ', output_shape)\n",
        "print('index: ', output_idx)"
      ]
    },
    {
      "cell_type": "markdown",
      "metadata": {
        "id": "YzOrwYdOtaRo"
      },
      "source": [
        "##TFLite model inference"
      ]
    },
    {
      "cell_type": "code",
      "execution_count": null,
      "metadata": {
        "colab": {
          "base_uri": "https://localhost:8080/"
        },
        "id": "srfQ0G_tnI-c",
        "outputId": "62ef0f60-a3c4-409c-cf02-c1ea24b8c42b"
      },
      "outputs": [
        {
          "name": "stdout",
          "output_type": "stream",
          "text": [
            "(1, 50, 200, 1)\n"
          ]
        }
      ],
      "source": [
        "# Generate random input image to test the model\n",
        "random_input = np.array(np.random.random_sample(input_shape), dtype=np.float32)\n",
        "print(random_input.shape)"
      ]
    },
    {
      "cell_type": "code",
      "execution_count": null,
      "metadata": {
        "colab": {
          "base_uri": "https://localhost:8080/"
        },
        "id": "A9TDq8mqsRdW",
        "outputId": "0e104a07-d086-4816-832b-756024dbf7c6"
      },
      "outputs": [
        {
          "name": "stdout",
          "output_type": "stream",
          "text": [
            "[[[2.8476577e-05 2.0957779e-05 2.1509726e-05 ... 2.1406220e-05\n",
            "   3.4896188e-05 8.7895834e-01]\n",
            "  [1.3335358e-07 1.1043618e-07 1.3066658e-07 ... 1.3127637e-07\n",
            "   1.8808343e-07 9.9685919e-01]\n",
            "  [5.7183906e-09 5.8159362e-09 4.3193666e-09 ... 4.4603050e-09\n",
            "   8.6628775e-09 9.9954385e-01]\n",
            "  ...\n",
            "  [1.3180889e-06 1.1416751e-06 2.6960893e-07 ... 5.1476604e-07\n",
            "   6.0827927e-07 9.8222023e-05]\n",
            "  [3.6251823e-08 2.6045550e-08 5.2643547e-09 ... 8.5941885e-09\n",
            "   2.0909155e-08 9.9773479e-01]\n",
            "  [2.0637963e-06 1.9681952e-06 3.4318941e-07 ... 1.0302908e-06\n",
            "   9.6592487e-07 5.9178226e-05]]]\n",
            "(1, 50, 68)\n"
          ]
        }
      ],
      "source": [
        "interpreter.allocate_tensors()\n",
        "\n",
        "# Test the model on random input data\n",
        "interpreter.set_tensor(input_idx, random_input)\n",
        "\n",
        "interpreter.invoke()\n",
        "\n",
        "# The function `get_tensor()` returns a copy of the tensor data\n",
        "# Use `tensor()` in order to get a pointer to the tensor\n",
        "output_data = interpreter.get_tensor(output_idx)\n",
        "print(output_data)\n",
        "print(output_data.shape)"
      ]
    },
    {
      "cell_type": "code",
      "execution_count": null,
      "metadata": {
        "colab": {
          "base_uri": "https://localhost:8080/"
        },
        "id": "sSBKZ2HxC7D5",
        "outputId": "5a858c5a-b2bd-4a6a-a45b-866a38ff4674"
      },
      "outputs": [
        {
          "name": "stdout",
          "output_type": "stream",
          "text": [
            "[67, 67, 67, 67, 42, 67, 67, 67, 67, 67, 67, 67, 67, 40, 67, 40, 40, 67, 67, 67, 67, 67, 67, 67, 40, 67, 67, 67, 67, 67, 67, 67, 67, 67, 67, 67, 67, 67, 67, 67, 67, 67, 67, 67, 67, 19, 67, 19, 67, 40]\n"
          ]
        }
      ],
      "source": [
        "np_output_data = np.array(output_data)\n",
        "output = []\n",
        "\n",
        "for item in np_output_data[0,:,]:\n",
        "    output.append(np.argmax(item))\n",
        "\n",
        "print(output)"
      ]
    },
    {
      "cell_type": "code",
      "execution_count": null,
      "metadata": {
        "id": "APIyKaMRFBlu"
      },
      "outputs": [],
      "source": []
    }
  ],
  "metadata": {
    "accelerator": "GPU",
    "colab": {
      "name": "OCR.ipynb",
      "provenance": []
    },
    "kernelspec": {
      "display_name": "Python 3.8.8 64-bit",
      "metadata": {
        "interpreter": {
          "hash": "7b4bcba13551d4e72a2d1b8469f4fec8f407994ba3d5e68718c4c046ec263e8a"
        }
      },
      "name": "python3"
    },
    "language_info": {
      "codemirror_mode": {
        "name": "ipython",
        "version": 3
      },
      "file_extension": ".py",
      "mimetype": "text/x-python",
      "name": "python",
      "nbconvert_exporter": "python",
      "pygments_lexer": "ipython3",
      "version": "3.8.8-final"
    },
    "orig_nbformat": 2
  },
  "nbformat": 4,
  "nbformat_minor": 0
}