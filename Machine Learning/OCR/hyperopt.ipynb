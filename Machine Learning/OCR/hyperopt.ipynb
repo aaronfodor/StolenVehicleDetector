{
 "cells": [
  {
   "cell_type": "code",
   "execution_count": null,
   "metadata": {},
   "outputs": [],
   "source": [
    "pip install -U keras-tuner"
   ]
  },
  {
   "cell_type": "code",
   "execution_count": 1,
   "metadata": {},
   "outputs": [],
   "source": [
    "import tensorflow as tf\r\n",
    "import kerastuner as kt\r\n",
    "from kerastuner import HyperParameters"
   ]
  },
  {
   "cell_type": "code",
   "execution_count": 24,
   "metadata": {},
   "outputs": [],
   "source": [
    "#Edit this to point to project root\r\n",
    "sep = \"\\\\\"\r\n",
    "home = f\"B:{sep}Dev{sep}GitHub{sep}University{sep}MSc Thesis{sep}StolenVehicleDetector{sep}Machine Learning{sep}OCR{sep}\"\r\n",
    "local_home = f\"{home}\""
   ]
  },
  {
   "cell_type": "code",
   "execution_count": 25,
   "metadata": {},
   "outputs": [],
   "source": [
    "hyperopt_dir = f\"{home}hyperopt{sep}\""
   ]
  },
  {
   "cell_type": "code",
   "execution_count": 26,
   "metadata": {},
   "outputs": [],
   "source": [
    "def black_box_function(x, y, z):\r\n",
    "    value = ( (x ** 2) + (y ** 2) + (z ** 2) )\r\n",
    "    return value"
   ]
  },
  {
   "cell_type": "code",
   "execution_count": 27,
   "metadata": {},
   "outputs": [],
   "source": [
    "def model_builder(hp):\r\n",
    "\r\n",
    "    lr = hp['learning_rate']\r\n",
    "    units = hp['units']\r\n",
    "\r\n",
    "    model = tf.keras.Sequential()\r\n",
    "    model.add(tf.keras.layers.Dense(units=units, activation='relu'))\r\n",
    "    model.add(tf.keras.layers.Dense(10, activation='softmax'))\r\n",
    "    model.compile(\r\n",
    "        optimizer=tf.keras.optimizers.Adam(lr),\r\n",
    "        loss='sparse_categorical_crossentropy',\r\n",
    "        metrics=['loss'])\r\n",
    "\r\n",
    "    return model"
   ]
  },
  {
   "cell_type": "code",
   "execution_count": 28,
   "metadata": {},
   "outputs": [],
   "source": [
    "class OCRTuner(kt.Tuner):\r\n",
    "\r\n",
    "    def run_trial(self, trial):\r\n",
    "\r\n",
    "        hp = trial.hyperparameters\r\n",
    "        # Hyperparameters can be added anywhere inside `run_trial`.\r\n",
    "        # When the first trial is run, they will take on their default values.\r\n",
    "        # Afterwards, they will be tuned by the `Oracle`.\r\n",
    "        x = hp['x']\r\n",
    "        y = hp['y']\r\n",
    "        z = hp['z']\r\n",
    "\r\n",
    "        model = self.hypermodel.build(trial.hyperparameters)\r\n",
    "        val_loss = black_box_function(x, y, z)\r\n",
    "        self.oracle.update_trial(trial.trial_id, {'val_loss': val_loss})"
   ]
  },
  {
   "cell_type": "code",
   "execution_count": 29,
   "metadata": {},
   "outputs": [
    {
     "data": {
      "text/plain": "10"
     },
     "execution_count": 29,
     "metadata": {},
     "output_type": "execute_result"
    }
   ],
   "source": [
    "hp = HyperParameters()\r\n",
    "\r\n",
    "# constants\r\n",
    "hp.Fixed(name='units', value=5)\r\n",
    "hp.Fixed(name='residual_needed', value=True)\r\n",
    "# variables\r\n",
    "hp.Choice(name='learning_rate', values=[1e-2, 1e-3, 1e-4])\r\n",
    "hp.Boolean(name='batchnorm_needed', default=True)\r\n",
    "hp.Float(name='dropout', min_value=0, max_value=0.6, step=None, sampling='linear', default=0.2)\r\n",
    "hp.Int(name='x', min_value=1, max_value=20, step=1, default=10)\r\n",
    "hp.Int(name='y', min_value=1, max_value=20, step=1, default=10)\r\n",
    "hp.Int(name='z', min_value=1, max_value=20, step=1, default=10)"
   ]
  },
  {
   "cell_type": "code",
   "execution_count": 30,
   "metadata": {},
   "outputs": [],
   "source": [
    "tuner = OCRTuner(\r\n",
    "    oracle=kt.oracles.BayesianOptimization(objective=kt.Objective('val_loss', 'min'), hyperparameters=hp, max_trials=10, num_initial_points=2),\r\n",
    "    hypermodel=model_builder,\r\n",
    "    directory=hyperopt_dir,\r\n",
    "    project_name='OCR tuning'\r\n",
    ")"
   ]
  },
  {
   "cell_type": "code",
   "execution_count": 31,
   "metadata": {},
   "outputs": [
    {
     "name": "stdout",
     "output_type": "stream",
     "text": [
      "Search space summary\n",
      "Default search space size: 8\n",
      "units (Fixed)\n",
      "{'conditions': [], 'value': 5}\n",
      "residual_needed (Fixed)\n",
      "{'conditions': [], 'value': True}\n",
      "learning_rate (Choice)\n",
      "{'default': 0.01, 'conditions': [], 'values': [0.01, 0.001, 0.0001], 'ordered': True}\n",
      "batchnorm_needed (Boolean)\n",
      "{'default': True, 'conditions': []}\n",
      "dropout (Float)\n",
      "{'default': 0.2, 'conditions': [], 'min_value': 0.0, 'max_value': 0.6, 'step': None, 'sampling': 'linear'}\n",
      "x (Int)\n",
      "{'default': 10, 'conditions': [], 'min_value': 1, 'max_value': 20, 'step': 1, 'sampling': None}\n",
      "y (Int)\n",
      "{'default': 10, 'conditions': [], 'min_value': 1, 'max_value': 20, 'step': 1, 'sampling': None}\n",
      "z (Int)\n",
      "{'default': 10, 'conditions': [], 'min_value': 1, 'max_value': 20, 'step': 1, 'sampling': None}\n"
     ]
    }
   ],
   "source": [
    "tuner.search_space_summary()"
   ]
  },
  {
   "cell_type": "code",
   "execution_count": 33,
   "metadata": {},
   "outputs": [
    {
     "name": "stdout",
     "output_type": "stream",
     "text": [
      "INFO:tensorflow:Oracle triggered exit\n"
     ]
    }
   ],
   "source": [
    "tuner.search()"
   ]
  },
  {
   "cell_type": "code",
   "execution_count": 34,
   "metadata": {},
   "outputs": [
    {
     "name": "stdout",
     "output_type": "stream",
     "text": [
      "{'units': 5, 'residual_needed': True, 'learning_rate': 0.01, 'batchnorm_needed': True, 'dropout': 0.6, 'x': 1, 'y': 1, 'z': 1}\n"
     ]
    }
   ],
   "source": [
    "# Get the optimal hyperparameters\r\n",
    "optimal_hyparams = tuner.get_best_hyperparameters(num_trials=1)[0]\r\n",
    "print(optimal_hyparams.values)"
   ]
  },
  {
   "cell_type": "code",
   "execution_count": null,
   "metadata": {},
   "outputs": [],
   "source": []
  }
 ],
 "metadata": {
  "kernelspec": {
   "display_name": "Python 3.8.8 64-bit ('Thesis': venv)",
   "name": "python388jvsc74a57bd07b4bcba13551d4e72a2d1b8469f4fec8f407994ba3d5e68718c4c046ec263e8a"
  },
  "language_info": {
   "codemirror_mode": {
    "name": "ipython",
    "version": 3
   },
   "file_extension": ".py",
   "mimetype": "text/x-python",
   "name": "python",
   "nbconvert_exporter": "python",
   "pygments_lexer": "ipython3",
   "version": "3.8.8"
  },
  "orig_nbformat": 2
 },
 "nbformat": 4,
 "nbformat_minor": 2
}