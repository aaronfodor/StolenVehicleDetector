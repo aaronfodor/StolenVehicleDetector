{
  "nbformat": 4,
  "nbformat_minor": 0,
  "metadata": {
    "colab": {
      "name": "OLD-tfrecord viewer.ipynb",
      "provenance": []
    },
    "kernelspec": {
      "name": "python3",
      "display_name": "Python 3"
    }
  },
  "cells": [
    {
      "cell_type": "code",
      "metadata": {
        "id": "OMpIjxP_YXDY",
        "outputId": "a6ed6c6f-561c-43fe-e703-6191619b11ae",
        "colab": {
          "base_uri": "https://localhost:8080/"
        }
      },
      "source": [
        "!pip install flask-ngrok"
      ],
      "execution_count": null,
      "outputs": [
        {
          "output_type": "stream",
          "text": [
            "Collecting flask-ngrok\n",
            "  Downloading https://files.pythonhosted.org/packages/af/6c/f54cb686ad1129e27d125d182f90f52b32f284e6c8df58c1bae54fa1adbc/flask_ngrok-0.0.25-py3-none-any.whl\n",
            "Requirement already satisfied: Flask>=0.8 in /usr/local/lib/python3.6/dist-packages (from flask-ngrok) (1.1.2)\n",
            "Requirement already satisfied: requests in /usr/local/lib/python3.6/dist-packages (from flask-ngrok) (2.23.0)\n",
            "Requirement already satisfied: itsdangerous>=0.24 in /usr/local/lib/python3.6/dist-packages (from Flask>=0.8->flask-ngrok) (1.1.0)\n",
            "Requirement already satisfied: click>=5.1 in /usr/local/lib/python3.6/dist-packages (from Flask>=0.8->flask-ngrok) (7.1.2)\n",
            "Requirement already satisfied: Jinja2>=2.10.1 in /usr/local/lib/python3.6/dist-packages (from Flask>=0.8->flask-ngrok) (2.11.2)\n",
            "Requirement already satisfied: Werkzeug>=0.15 in /usr/local/lib/python3.6/dist-packages (from Flask>=0.8->flask-ngrok) (1.0.1)\n",
            "Requirement already satisfied: idna<3,>=2.5 in /usr/local/lib/python3.6/dist-packages (from requests->flask-ngrok) (2.10)\n",
            "Requirement already satisfied: urllib3!=1.25.0,!=1.25.1,<1.26,>=1.21.1 in /usr/local/lib/python3.6/dist-packages (from requests->flask-ngrok) (1.24.3)\n",
            "Requirement already satisfied: certifi>=2017.4.17 in /usr/local/lib/python3.6/dist-packages (from requests->flask-ngrok) (2020.6.20)\n",
            "Requirement already satisfied: chardet<4,>=3.0.2 in /usr/local/lib/python3.6/dist-packages (from requests->flask-ngrok) (3.0.4)\n",
            "Requirement already satisfied: MarkupSafe>=0.23 in /usr/local/lib/python3.6/dist-packages (from Jinja2>=2.10.1->Flask>=0.8->flask-ngrok) (1.1.1)\n",
            "Installing collected packages: flask-ngrok\n",
            "Successfully installed flask-ngrok-0.0.25\n"
          ],
          "name": "stdout"
        }
      ]
    },
    {
      "cell_type": "code",
      "metadata": {
        "id": "r12DmU5rQJYt"
      },
      "source": [
        "import os\n",
        "import zipfile"
      ],
      "execution_count": null,
      "outputs": []
    },
    {
      "cell_type": "code",
      "metadata": {
        "id": "ViLM6-UoNDEN",
        "outputId": "c2628af7-7a7e-4a0a-f104-e2c236980750",
        "colab": {
          "base_uri": "https://localhost:8080/"
        }
      },
      "source": [
        "!git clone https://github.com/sulc/tfrecord-viewer.git"
      ],
      "execution_count": null,
      "outputs": [
        {
          "output_type": "stream",
          "text": [
            "Cloning into 'tfrecord-viewer'...\n",
            "remote: Enumerating objects: 21, done.\u001b[K\n",
            "remote: Total 21 (delta 0), reused 0 (delta 0), pack-reused 21\u001b[K\n",
            "Unpacking objects: 100% (21/21), done.\n"
          ],
          "name": "stdout"
        }
      ]
    },
    {
      "cell_type": "code",
      "metadata": {
        "id": "GepE_dKHQV5h"
      },
      "source": [
        "rootPath = '/content/drive/My Drive/Machine Learning/Stolen vehicle detection'\n",
        "dataPath = rootPath + '/data'\n",
        "\n",
        "localPath = '/content'\n",
        "localDataPath = localPath + '/data'"
      ],
      "execution_count": null,
      "outputs": []
    },
    {
      "cell_type": "code",
      "metadata": {
        "id": "cpQBxkaKQmtV",
        "outputId": "07272c7f-9a37-4060-cf79-d89f5513e165",
        "colab": {
          "base_uri": "https://localhost:8080/"
        }
      },
      "source": [
        "from google.colab import drive\n",
        "drive.mount('/content/drive', force_remount=False)\n",
        "\n",
        "os.chdir(localPath)\n",
        "# Show current directory\n",
        "!pwd"
      ],
      "execution_count": null,
      "outputs": [
        {
          "output_type": "stream",
          "text": [
            "Drive already mounted at /content/drive; to attempt to forcibly remount, call drive.mount(\"/content/drive\", force_remount=True).\n",
            "/content\n"
          ],
          "name": "stdout"
        }
      ]
    },
    {
      "cell_type": "code",
      "metadata": {
        "id": "iZKo6Y9XP0aC",
        "outputId": "30b949eb-a141-48fb-ac5f-68f90cbdcb09",
        "colab": {
          "base_uri": "https://localhost:8080/"
        }
      },
      "source": [
        "# Run it only when the dataset is not yet extracted \n",
        "zipRef = zipfile.ZipFile(dataPath + \"/datasetRecords.zip\", 'r')\n",
        "zipRef.extractall(localDataPath)\n",
        "zipRef.close()\n",
        "print('Dataset extraction successful')"
      ],
      "execution_count": null,
      "outputs": [
        {
          "output_type": "stream",
          "text": [
            "Dataset extraction successful\n"
          ],
          "name": "stdout"
        }
      ]
    },
    {
      "cell_type": "code",
      "metadata": {
        "id": "yd-hpGEbQIR7"
      },
      "source": [
        "train_record_fname = '/content/data/datasetRecords/trainDataset.tfrecord-?????-of-00012'\n",
        "validation_record_fname = '/content/data/datasetRecords/validationDataset.tfrecord-?????-of-00001'\n",
        "test_record_fname = '/content/data/datasetRecords/testDataset.tfrecord-?????-of-00001'\n",
        "label_map_pbtxt_fname = '/content/data/datasetRecords/classes.pbtxt'"
      ],
      "execution_count": null,
      "outputs": []
    },
    {
      "cell_type": "markdown",
      "metadata": {
        "id": "h0yNTgKCaMDW"
      },
      "source": [
        "##Write file"
      ]
    },
    {
      "cell_type": "code",
      "metadata": {
        "id": "IKRZlXCSZi84",
        "outputId": "2606acea-3968-4406-96aa-6fb3e919bc14",
        "colab": {
          "base_uri": "https://localhost:8080/"
        }
      },
      "source": [
        "%%writefile {'/content/tfrecord-viewer/tfviewer.py'}\n",
        "\n",
        "#!/usr/bin/env python3\n",
        "import sys\n",
        "import io\n",
        "import argparse\n",
        "\n",
        "import tensorflow as tf\n",
        "from flask_ngrok import run_with_ngrok\n",
        "from flask import Flask, render_template, send_file\n",
        "\n",
        "from overlays import overlay_factory\n",
        "\n",
        "app = Flask(__name__)\n",
        "run_with_ngrok(app)   #starts ngrok when the app is run\n",
        "\n",
        "parser = argparse.ArgumentParser(description='TF Record viewer.')\n",
        "parser.add_argument('tfrecords', type=str, nargs='+',\n",
        "                    help='path to TF record(s) to view')\n",
        "\n",
        "parser.add_argument('--image-key', type=str, default=\"image/encoded\",\n",
        "                    help='Key to the encoded image.')\n",
        "\n",
        "parser.add_argument('--filename-key', type=str, default=\"image/filename\",\n",
        "                    help='Key to the unique ID of each record.')\n",
        "\n",
        "parser.add_argument('--max-images', type=int, default=500,\n",
        "                    help='Max. number of images to load.')\n",
        "\n",
        "parser.add_argument('--host', type=str, default=\"0.0.0.0\",\n",
        "                    help='host/IP to start the Flask server.')\n",
        "\n",
        "parser.add_argument('--port', type=int, default=5000,\n",
        "                    help='Port to start the Flask server.')\n",
        "\n",
        "parser.add_argument(\"-v\", \"--verbose\", help=\"increase output verbosity\",\n",
        "                    action=\"store_true\")\n",
        "\n",
        "parser.add_argument('--overlay', type=str, default=\"detection\",\n",
        "                    help='Overlay to display. (detection/classification/none)')\n",
        "\n",
        "\n",
        "#######################################\n",
        "# Object detection specific arguments #\n",
        "parser.add_argument('--bbox-name-key', type=str, default=\"image/object/class/text\",\n",
        "                    help='Key to the bbox label.')\n",
        "\n",
        "parser.add_argument('--bbox-xmin-key', type=str, default=\"image/object/bbox/xmin\")\n",
        "parser.add_argument('--bbox-xmax-key', type=str, default=\"image/object/bbox/xmax\")\n",
        "parser.add_argument('--bbox-ymin-key', type=str, default=\"image/object/bbox/ymin\")\n",
        "parser.add_argument('--bbox-ymax-key', type=str, default=\"image/object/bbox/ymax\")\n",
        "\n",
        "parser.add_argument('--coordinates-in-pixels', action=\"store_true\",\n",
        "                    help='Set if bounding box coordinates are saved in pixels, not in %% of image width/height.')\n",
        "\n",
        "parser.add_argument('--labels-to-highlight', type=str, default=\"car\",\n",
        "                    help='Labels for which bounding boxes should be highlighted (red instead of blue).')\n",
        "\n",
        "\n",
        "###########################################\n",
        "# Image classification specific arguments #\n",
        "parser.add_argument('--class-label-key', type=str, default=\"image/class/text\",\n",
        "                    help='Key to the image class label.')\n",
        "\n",
        "\n",
        "args = parser.parse_args()\n",
        "\n",
        "\n",
        "# Variables to be loaded with preload_images()\n",
        "images = []\n",
        "filenames = []\n",
        "captions = []\n",
        "bboxes = []\n",
        "\n",
        "\n",
        "def preload_images(max_images):\n",
        "  \"\"\" \n",
        "  Load images to be displayed in the browser gallery.\n",
        "\n",
        "  Args:\n",
        "    max_images (int): Maximum number of images to load.\n",
        "  Returns:\n",
        "    count (int): Number of images loaded.\n",
        "  \"\"\"\n",
        "  count = 0\n",
        "  overlay = overlay_factory.get_overlay(args.overlay, args)\n",
        "\n",
        "  for tfrecord_path in args.tfrecords:\n",
        "    print(\"Filename: \", tfrecord_path)\n",
        "    for i, record in enumerate(tf.compat.v1.io.tf_record_iterator(tfrecord_path)):\n",
        "      if args.verbose: print(\"######################### Record\", i, \"#########################\")\n",
        "      example = tf.train.Example()\n",
        "      example.ParseFromString(record)\n",
        "      feat = example.features.feature\n",
        "\n",
        "      if len(images) < max_images:\n",
        "        filename = feat[args.filename_key].bytes_list.value[0].decode(\"utf-8\")\n",
        "        img =  feat[args.image_key].bytes_list.value[0]\n",
        "        \n",
        "        img_with_overlay = overlay.apply_overlay(img, feat)\n",
        "\n",
        "        filenames.append(filename)\n",
        "        images.append(img_with_overlay)\n",
        "        captions.append( tfrecord_path + \":\" + filename )\n",
        "      else:\n",
        "        return count\n",
        "      count += 1\n",
        "  return count\n",
        "\n",
        "\n",
        "\n",
        "@app.route('/')\n",
        "def frontpage():\n",
        "  html = \"\"\n",
        "  for i,filename in enumerate(filenames):\n",
        "    html += '<img data-u=\"image\" src=\"image/%s\" data-caption=\"%s\" />\\n' % (i, captions[i])\n",
        "  return render_template('gallery.html', header=args.tfrecords, images=html)\n",
        "\n",
        "@app.route('/image/<key>')\n",
        "def get_image(key):\n",
        "  \"\"\"Get image by key (index) from images preloaded when starting the viewer by preload_images().\n",
        "  \"\"\"\n",
        "  key=int(key)\n",
        "  img = images[key]\n",
        "  img_buffer = io.BytesIO(img)\n",
        "  return send_file(img_buffer,\n",
        "                   attachment_filename=str(key)+'.jpeg',\n",
        "                   mimetype='image/jpg')\n",
        "\n",
        "@app.after_request\n",
        "def add_header(r):\n",
        "  \"\"\"\n",
        "  Add headers to disable Caching,\n",
        "  (So that images with the same index in different TFRecords are displayed correctly.)\n",
        "  \"\"\"\n",
        "  r.headers[\"Cache-Control\"] = \"no-cache, no-store, must-revalidate\"\n",
        "  r.headers[\"Pragma\"] = \"no-cache\"\n",
        "  r.headers[\"Expires\"] = \"0\"\n",
        "  r.headers['Cache-Control'] = 'public, max-age=0'\n",
        "  return r\n",
        "\n",
        "\n",
        "if __name__ == \"__main__\":\n",
        "  print(\"Pre-loading up to %d examples..\" % args.max_images)\n",
        "  count = preload_images(args.max_images)\n",
        "  print(\"Loaded %d examples\" % count)\n",
        "  app.run()"
      ],
      "execution_count": null,
      "outputs": [
        {
          "output_type": "stream",
          "text": [
            "Overwriting /content/tfrecord-viewer/tfviewer.py\n"
          ],
          "name": "stdout"
        }
      ]
    },
    {
      "cell_type": "code",
      "metadata": {
        "id": "lNKxJBbWt9L-"
      },
      "source": [
        "#%%writefile {'/content/tfrecord-viewer/tfviewer.py'}"
      ],
      "execution_count": null,
      "outputs": []
    },
    {
      "cell_type": "markdown",
      "metadata": {
        "id": "8cMFKFu1vtoq"
      },
      "source": [
        "If there is a font-related error, change the required font to this:"
      ]
    },
    {
      "cell_type": "code",
      "metadata": {
        "id": "S1AD0DMoYZ-V"
      },
      "source": [
        "#LiberationMono-Regular.ttf"
      ],
      "execution_count": null,
      "outputs": []
    },
    {
      "cell_type": "markdown",
      "metadata": {
        "id": "Zhy1BE6UaSrX"
      },
      "source": [
        "##Run"
      ]
    },
    {
      "cell_type": "code",
      "metadata": {
        "id": "06l2GeUXRCtA"
      },
      "source": [
        "!python3 /content/tfrecord-viewer/tfviewer.py '/content/data/datasetRecords/validationDataset.tfrecord-00000-of-00001' --labels-to-highlight=''"
      ],
      "execution_count": null,
      "outputs": []
    }
  ]
}