{
  "nbformat": 4,
  "nbformat_minor": 0,
  "metadata": {
    "colab": {
      "name": "Untitled1.ipynb",
      "provenance": []
    },
    "kernelspec": {
      "name": "python3",
      "display_name": "Python 3"
    }
  },
  "cells": [
    {
      "cell_type": "code",
      "metadata": {
        "id": "hSV30oRhTMf9",
        "colab_type": "code",
        "colab": {
          "base_uri": "https://localhost:8080/",
          "height": 877
        },
        "outputId": "b1628f7c-7439-40cd-b028-1cd88afd2956"
      },
      "source": [
        "!pip install -U --pre tensorflow==\"1.15.*\""
      ],
      "execution_count": 23,
      "outputs": [
        {
          "output_type": "stream",
          "text": [
            "Collecting tensorflow==1.15.*\n",
            "\u001b[?25l  Downloading https://files.pythonhosted.org/packages/02/36/9a02e27f0ec248b676a380ffe910c1858e3af3027c0d4d513dd0b56a5613/tensorflow-1.15.3-cp36-cp36m-manylinux2010_x86_64.whl (110.5MB)\n",
            "\u001b[K     |████████████████████████████████| 110.5MB 68kB/s \n",
            "\u001b[?25hRequirement already satisfied, skipping upgrade: termcolor>=1.1.0 in /usr/local/lib/python3.6/dist-packages (from tensorflow==1.15.*) (1.1.0)\n",
            "Requirement already satisfied, skipping upgrade: opt-einsum>=2.3.2 in /usr/local/lib/python3.6/dist-packages (from tensorflow==1.15.*) (3.2.1)\n",
            "Collecting tensorboard<1.16.0,>=1.15.0\n",
            "\u001b[?25l  Downloading https://files.pythonhosted.org/packages/1e/e9/d3d747a97f7188f48aa5eda486907f3b345cd409f0a0850468ba867db246/tensorboard-1.15.0-py3-none-any.whl (3.8MB)\n",
            "\u001b[K     |████████████████████████████████| 3.8MB 24.8MB/s \n",
            "\u001b[?25hCollecting gast==0.2.2\n",
            "  Downloading https://files.pythonhosted.org/packages/4e/35/11749bf99b2d4e3cceb4d55ca22590b0d7c2c62b9de38ac4a4a7f4687421/gast-0.2.2.tar.gz\n",
            "Requirement already satisfied, skipping upgrade: keras-applications>=1.0.8 in /usr/local/lib/python3.6/dist-packages (from tensorflow==1.15.*) (1.0.8)\n",
            "Requirement already satisfied, skipping upgrade: numpy<2.0,>=1.16.0 in /usr/local/lib/python3.6/dist-packages (from tensorflow==1.15.*) (1.18.4)\n",
            "Requirement already satisfied, skipping upgrade: wrapt>=1.11.1 in /usr/local/lib/python3.6/dist-packages (from tensorflow==1.15.*) (1.12.1)\n",
            "Requirement already satisfied, skipping upgrade: grpcio>=1.8.6 in /usr/local/lib/python3.6/dist-packages (from tensorflow==1.15.*) (1.29.0)\n",
            "Requirement already satisfied, skipping upgrade: google-pasta>=0.1.6 in /usr/local/lib/python3.6/dist-packages (from tensorflow==1.15.*) (0.2.0)\n",
            "Requirement already satisfied, skipping upgrade: protobuf>=3.6.1 in /usr/local/lib/python3.6/dist-packages (from tensorflow==1.15.*) (3.10.0)\n",
            "Requirement already satisfied, skipping upgrade: absl-py>=0.7.0 in /usr/local/lib/python3.6/dist-packages (from tensorflow==1.15.*) (0.9.0)\n",
            "Requirement already satisfied, skipping upgrade: keras-preprocessing>=1.0.5 in /usr/local/lib/python3.6/dist-packages (from tensorflow==1.15.*) (1.1.2)\n",
            "Requirement already satisfied, skipping upgrade: six>=1.10.0 in /usr/local/lib/python3.6/dist-packages (from tensorflow==1.15.*) (1.12.0)\n",
            "Requirement already satisfied, skipping upgrade: wheel>=0.26; python_version >= \"3\" in /usr/local/lib/python3.6/dist-packages (from tensorflow==1.15.*) (0.34.2)\n",
            "Collecting tensorflow-estimator==1.15.1\n",
            "\u001b[?25l  Downloading https://files.pythonhosted.org/packages/de/62/2ee9cd74c9fa2fa450877847ba560b260f5d0fb70ee0595203082dafcc9d/tensorflow_estimator-1.15.1-py2.py3-none-any.whl (503kB)\n",
            "\u001b[K     |████████████████████████████████| 512kB 28.9MB/s \n",
            "\u001b[?25hRequirement already satisfied, skipping upgrade: astor>=0.6.0 in /usr/local/lib/python3.6/dist-packages (from tensorflow==1.15.*) (0.8.1)\n",
            "Requirement already satisfied, skipping upgrade: markdown>=2.6.8 in /usr/local/lib/python3.6/dist-packages (from tensorboard<1.16.0,>=1.15.0->tensorflow==1.15.*) (3.2.2)\n",
            "Requirement already satisfied, skipping upgrade: werkzeug>=0.11.15 in /usr/local/lib/python3.6/dist-packages (from tensorboard<1.16.0,>=1.15.0->tensorflow==1.15.*) (1.0.1)\n",
            "Requirement already satisfied, skipping upgrade: setuptools>=41.0.0 in /usr/local/lib/python3.6/dist-packages (from tensorboard<1.16.0,>=1.15.0->tensorflow==1.15.*) (46.4.0)\n",
            "Requirement already satisfied, skipping upgrade: h5py in /usr/local/lib/python3.6/dist-packages (from keras-applications>=1.0.8->tensorflow==1.15.*) (2.10.0)\n",
            "Requirement already satisfied, skipping upgrade: importlib-metadata; python_version < \"3.8\" in /usr/local/lib/python3.6/dist-packages (from markdown>=2.6.8->tensorboard<1.16.0,>=1.15.0->tensorflow==1.15.*) (1.6.0)\n",
            "Requirement already satisfied, skipping upgrade: zipp>=0.5 in /usr/local/lib/python3.6/dist-packages (from importlib-metadata; python_version < \"3.8\"->markdown>=2.6.8->tensorboard<1.16.0,>=1.15.0->tensorflow==1.15.*) (3.1.0)\n",
            "Building wheels for collected packages: gast\n",
            "  Building wheel for gast (setup.py) ... \u001b[?25l\u001b[?25hdone\n",
            "  Created wheel for gast: filename=gast-0.2.2-cp36-none-any.whl size=7540 sha256=aafc21b6602e8259960b5f166c724a3e75011af81582ea474cf3fb6995b9a0dc\n",
            "  Stored in directory: /root/.cache/pip/wheels/5c/2e/7e/a1d4d4fcebe6c381f378ce7743a3ced3699feb89bcfbdadadd\n",
            "Successfully built gast\n",
            "\u001b[31mERROR: tensorflow-probability 0.10.0 has requirement gast>=0.3.2, but you'll have gast 0.2.2 which is incompatible.\u001b[0m\n",
            "Installing collected packages: tensorboard, gast, tensorflow-estimator, tensorflow\n",
            "  Found existing installation: tensorboard 2.2.1\n",
            "    Uninstalling tensorboard-2.2.1:\n",
            "      Successfully uninstalled tensorboard-2.2.1\n",
            "  Found existing installation: gast 0.3.3\n",
            "    Uninstalling gast-0.3.3:\n",
            "      Successfully uninstalled gast-0.3.3\n",
            "  Found existing installation: tensorflow-estimator 2.2.0\n",
            "    Uninstalling tensorflow-estimator-2.2.0:\n",
            "      Successfully uninstalled tensorflow-estimator-2.2.0\n",
            "  Found existing installation: tensorflow 2.2.0\n",
            "    Uninstalling tensorflow-2.2.0:\n",
            "      Successfully uninstalled tensorflow-2.2.0\n",
            "Successfully installed gast-0.2.2 tensorboard-1.15.0 tensorflow-1.15.3 tensorflow-estimator-1.15.1\n"
          ],
          "name": "stdout"
        }
      ]
    },
    {
      "cell_type": "code",
      "metadata": {
        "id": "OMpIjxP_YXDY",
        "colab_type": "code",
        "colab": {
          "base_uri": "https://localhost:8080/",
          "height": 269
        },
        "outputId": "2d5e9897-7281-48a9-d8fc-070af3839ed4"
      },
      "source": [
        "!pip install flask-ngrok"
      ],
      "execution_count": 17,
      "outputs": [
        {
          "output_type": "stream",
          "text": [
            "Collecting flask-ngrok\n",
            "  Downloading https://files.pythonhosted.org/packages/af/6c/f54cb686ad1129e27d125d182f90f52b32f284e6c8df58c1bae54fa1adbc/flask_ngrok-0.0.25-py3-none-any.whl\n",
            "Requirement already satisfied: requests in /usr/local/lib/python3.6/dist-packages (from flask-ngrok) (2.23.0)\n",
            "Requirement already satisfied: Flask>=0.8 in /usr/local/lib/python3.6/dist-packages (from flask-ngrok) (1.1.2)\n",
            "Requirement already satisfied: certifi>=2017.4.17 in /usr/local/lib/python3.6/dist-packages (from requests->flask-ngrok) (2020.4.5.1)\n",
            "Requirement already satisfied: chardet<4,>=3.0.2 in /usr/local/lib/python3.6/dist-packages (from requests->flask-ngrok) (3.0.4)\n",
            "Requirement already satisfied: idna<3,>=2.5 in /usr/local/lib/python3.6/dist-packages (from requests->flask-ngrok) (2.9)\n",
            "Requirement already satisfied: urllib3!=1.25.0,!=1.25.1,<1.26,>=1.21.1 in /usr/local/lib/python3.6/dist-packages (from requests->flask-ngrok) (1.24.3)\n",
            "Requirement already satisfied: itsdangerous>=0.24 in /usr/local/lib/python3.6/dist-packages (from Flask>=0.8->flask-ngrok) (1.1.0)\n",
            "Requirement already satisfied: click>=5.1 in /usr/local/lib/python3.6/dist-packages (from Flask>=0.8->flask-ngrok) (7.1.2)\n",
            "Requirement already satisfied: Werkzeug>=0.15 in /usr/local/lib/python3.6/dist-packages (from Flask>=0.8->flask-ngrok) (1.0.1)\n",
            "Requirement already satisfied: Jinja2>=2.10.1 in /usr/local/lib/python3.6/dist-packages (from Flask>=0.8->flask-ngrok) (2.11.2)\n",
            "Requirement already satisfied: MarkupSafe>=0.23 in /usr/local/lib/python3.6/dist-packages (from Jinja2>=2.10.1->Flask>=0.8->flask-ngrok) (1.1.1)\n",
            "Installing collected packages: flask-ngrok\n",
            "Successfully installed flask-ngrok-0.0.25\n"
          ],
          "name": "stdout"
        }
      ]
    },
    {
      "cell_type": "code",
      "metadata": {
        "id": "r12DmU5rQJYt",
        "colab_type": "code",
        "colab": {}
      },
      "source": [
        "import os\n",
        "import zipfile"
      ],
      "execution_count": 0,
      "outputs": []
    },
    {
      "cell_type": "code",
      "metadata": {
        "id": "GepE_dKHQV5h",
        "colab_type": "code",
        "colab": {}
      },
      "source": [
        "rootPath = '/content/drive/My Drive/Machine Learning/License plate detection'\n",
        "dataPath = rootPath + '/data'\n",
        "\n",
        "localPath = '/content'\n",
        "localDataPath = localPath + '/data'"
      ],
      "execution_count": 0,
      "outputs": []
    },
    {
      "cell_type": "code",
      "metadata": {
        "id": "cpQBxkaKQmtV",
        "colab_type": "code",
        "colab": {
          "base_uri": "https://localhost:8080/",
          "height": 138
        },
        "outputId": "a750349b-2f53-41ff-e8e5-8fe08ab60d1f"
      },
      "source": [
        "from google.colab import drive\n",
        "drive.mount('/content/drive', force_remount=False)\n",
        "\n",
        "os.chdir(localPath)\n",
        "# Show current directory\n",
        "!pwd"
      ],
      "execution_count": 13,
      "outputs": [
        {
          "output_type": "stream",
          "text": [
            "Go to this URL in a browser: https://accounts.google.com/o/oauth2/auth?client_id=947318989803-6bn6qk8qdgf4n4g3pfee6491hc0brc4i.apps.googleusercontent.com&redirect_uri=urn%3aietf%3awg%3aoauth%3a2.0%3aoob&response_type=code&scope=email%20https%3a%2f%2fwww.googleapis.com%2fauth%2fdocs.test%20https%3a%2f%2fwww.googleapis.com%2fauth%2fdrive%20https%3a%2f%2fwww.googleapis.com%2fauth%2fdrive.photos.readonly%20https%3a%2f%2fwww.googleapis.com%2fauth%2fpeopleapi.readonly\n",
            "\n",
            "Enter your authorization code:\n",
            "··········\n",
            "Mounted at /content/drive\n",
            "/content\n"
          ],
          "name": "stdout"
        }
      ]
    },
    {
      "cell_type": "code",
      "metadata": {
        "id": "ViLM6-UoNDEN",
        "colab_type": "code",
        "colab": {
          "base_uri": "https://localhost:8080/",
          "height": 118
        },
        "outputId": "9936061f-696d-4f26-81d1-da59aaaad0e9"
      },
      "source": [
        "!git clone https://github.com/sulc/tfrecord-viewer.git"
      ],
      "execution_count": 7,
      "outputs": [
        {
          "output_type": "stream",
          "text": [
            "Cloning into 'tfrecord-viewer'...\n",
            "remote: Enumerating objects: 21, done.\u001b[K\n",
            "remote: Counting objects: 100% (21/21), done.\u001b[K\n",
            "remote: Compressing objects: 100% (18/18), done.\u001b[K\n",
            "remote: Total 21 (delta 4), reused 15 (delta 2), pack-reused 0\n",
            "Unpacking objects: 100% (21/21), done.\n"
          ],
          "name": "stdout"
        }
      ]
    },
    {
      "cell_type": "code",
      "metadata": {
        "id": "iZKo6Y9XP0aC",
        "colab_type": "code",
        "colab": {
          "base_uri": "https://localhost:8080/",
          "height": 34
        },
        "outputId": "b61bbeea-c95a-40f2-a3b7-549616152f8f"
      },
      "source": [
        "# Run it only when the dataset is not yet extracted \n",
        "zipRef = zipfile.ZipFile(dataPath + \"/datasetRecords.zip\", 'r')\n",
        "zipRef.extractall(localDataPath)\n",
        "zipRef.close()\n",
        "print('Dataset extraction successful')"
      ],
      "execution_count": 14,
      "outputs": [
        {
          "output_type": "stream",
          "text": [
            "Dataset extraction successful\n"
          ],
          "name": "stdout"
        }
      ]
    },
    {
      "cell_type": "code",
      "metadata": {
        "id": "yd-hpGEbQIR7",
        "colab_type": "code",
        "colab": {}
      },
      "source": [
        "train_record_fname = '/content/data/trainDataset.tfrecord-?????-of-00010'\n",
        "validation_record_fname = '/content/data/validationDataset.tfrecord-?????-of-00001'\n",
        "test_record_fname = '/content/data/testDataset.tfrecord-?????-of-00001'\n",
        "label_map_pbtxt_fname = '/content/data/classes.pbtxt'"
      ],
      "execution_count": 0,
      "outputs": []
    },
    {
      "cell_type": "markdown",
      "metadata": {
        "id": "h0yNTgKCaMDW",
        "colab_type": "text"
      },
      "source": [
        "##Write file"
      ]
    },
    {
      "cell_type": "code",
      "metadata": {
        "id": "1veoqjHNSKrN",
        "colab_type": "code",
        "colab": {}
      },
      "source": [
        "tfviewerPath = 'content/tfrecord-viewer/tfviewer.py'"
      ],
      "execution_count": 0,
      "outputs": []
    },
    {
      "cell_type": "code",
      "metadata": {
        "id": "IKRZlXCSZi84",
        "colab_type": "code",
        "colab": {
          "base_uri": "https://localhost:8080/",
          "height": 0
        },
        "outputId": "aaf85de2-2810-4244-eb17-76c1c6d387e4"
      },
      "source": [
        "%%writefile {'tfrecord-viewer'}\n",
        "\n",
        "#!/usr/bin/env python3\n",
        "import sys\n",
        "import io\n",
        "import argparse\n",
        "\n",
        "import tensorflow as tf\n",
        "from flask_ngrok import run_with_ngrok\n",
        "from flask import Flask, render_template, send_file\n",
        "\n",
        "from overlays import overlay_factory\n",
        "\n",
        "app = Flask(__name__)\n",
        "run_with_ngrok(app)   #starts ngrok when the app is run\n",
        "\n",
        "parser = argparse.ArgumentParser(description='TF Record viewer.')\n",
        "parser.add_argument('tfrecords', type=str, nargs='+',\n",
        "                    help='path to TF record(s) to view')\n",
        "\n",
        "parser.add_argument('--image-key', type=str, default=\"image/encoded\",\n",
        "                    help='Key to the encoded image.')\n",
        "\n",
        "parser.add_argument('--filename-key', type=str, default=\"image/filename\",\n",
        "                    help='Key to the unique ID of each record.')\n",
        "\n",
        "parser.add_argument('--max-images', type=int, default=500,\n",
        "                    help='Max. number of images to load.')\n",
        "\n",
        "parser.add_argument('--host', type=str, default=\"0.0.0.0\",\n",
        "                    help='host/IP to start the Flask server.')\n",
        "\n",
        "parser.add_argument('--port', type=int, default=5000,\n",
        "                    help='Port to start the Flask server.')\n",
        "\n",
        "parser.add_argument(\"-v\", \"--verbose\", help=\"increase output verbosity\",\n",
        "                    action=\"store_true\")\n",
        "\n",
        "parser.add_argument('--overlay', type=str, default=\"detection\",\n",
        "                    help='Overlay to display. (detection/classification/none)')\n",
        "\n",
        "\n",
        "#######################################\n",
        "# Object detection specific arguments #\n",
        "parser.add_argument('--bbox-name-key', type=str, default=\"image/object/class/text\",\n",
        "                    help='Key to the bbox label.')\n",
        "\n",
        "parser.add_argument('--bbox-xmin-key', type=str, default=\"image/object/bbox/xmin\")\n",
        "parser.add_argument('--bbox-xmax-key', type=str, default=\"image/object/bbox/xmax\")\n",
        "parser.add_argument('--bbox-ymin-key', type=str, default=\"image/object/bbox/ymin\")\n",
        "parser.add_argument('--bbox-ymax-key', type=str, default=\"image/object/bbox/ymax\")\n",
        "\n",
        "parser.add_argument('--coordinates-in-pixels', action=\"store_true\",\n",
        "                    help='Set if bounding box coordinates are saved in pixels, not in %% of image width/height.')\n",
        "\n",
        "parser.add_argument('--labels-to-highlight', type=str, default=\"car\",\n",
        "                    help='Labels for which bounding boxes should be highlighted (red instead of blue).')\n",
        "\n",
        "\n",
        "###########################################\n",
        "# Image classification specific arguments #\n",
        "parser.add_argument('--class-label-key', type=str, default=\"image/class/text\",\n",
        "                    help='Key to the image class label.')\n",
        "\n",
        "\n",
        "args = parser.parse_args()\n",
        "\n",
        "\n",
        "# Variables to be loaded with preload_images()\n",
        "images = []\n",
        "filenames = []\n",
        "captions = []\n",
        "bboxes = []\n",
        "\n",
        "\n",
        "def preload_images(max_images):\n",
        "  \"\"\" \n",
        "  Load images to be displayed in the browser gallery.\n",
        "\n",
        "  Args:\n",
        "    max_images (int): Maximum number of images to load.\n",
        "  Returns:\n",
        "    count (int): Number of images loaded.\n",
        "  \"\"\"\n",
        "  count = 0\n",
        "  overlay = overlay_factory.get_overlay(args.overlay, args)\n",
        "\n",
        "  for tfrecord_path in args.tfrecords:\n",
        "    print(\"Filename: \", tfrecord_path)\n",
        "    for i, record in enumerate(tf.python_io.tf_record_iterator(tfrecord_path)):\n",
        "      if args.verbose: print(\"######################### Record\", i, \"#########################\")\n",
        "      example = tf.train.Example()\n",
        "      example.ParseFromString(record)\n",
        "      feat = example.features.feature\n",
        "\n",
        "      if len(images) < max_images:\n",
        "        filename = feat[args.filename_key].bytes_list.value[0].decode(\"utf-8\")\n",
        "        img =  feat[args.image_key].bytes_list.value[0]\n",
        "        \n",
        "        img_with_overlay = overlay.apply_overlay(img, feat)\n",
        "\n",
        "        filenames.append(filename)\n",
        "        images.append(img_with_overlay)\n",
        "        captions.append( tfrecord_path + \":\" + filename )\n",
        "      else:\n",
        "        return count\n",
        "      count += 1\n",
        "  return count\n",
        "\n",
        "\n",
        "\n",
        "@app.route('/')\n",
        "def frontpage():\n",
        "  html = \"\"\n",
        "  for i,filename in enumerate(filenames):\n",
        "    html += '<img data-u=\"image\" src=\"image/%s\" data-caption=\"%s\" />\\n' % (i, captions[i])\n",
        "  return render_template('gallery.html', header=args.tfrecords, images=html)\n",
        "\n",
        "@app.route('/image/<key>')\n",
        "def get_image(key):\n",
        "  \"\"\"Get image by key (index) from images preloaded when starting the viewer by preload_images().\n",
        "  \"\"\"\n",
        "  key=int(key)\n",
        "  img = images[key]\n",
        "  img_buffer = io.BytesIO(img)\n",
        "  return send_file(img_buffer,\n",
        "                   attachment_filename=str(key)+'.jpeg',\n",
        "                   mimetype='image/jpg')\n",
        "\n",
        "@app.after_request\n",
        "def add_header(r):\n",
        "  \"\"\"\n",
        "  Add headers to disable Caching,\n",
        "  (So that images with the same index in different TFRecords are displayed correctly.)\n",
        "  \"\"\"\n",
        "  r.headers[\"Cache-Control\"] = \"no-cache, no-store, must-revalidate\"\n",
        "  r.headers[\"Pragma\"] = \"no-cache\"\n",
        "  r.headers[\"Expires\"] = \"0\"\n",
        "  r.headers['Cache-Control'] = 'public, max-age=0'\n",
        "  return r\n",
        "\n",
        "\n",
        "if __name__ == \"__main__\":\n",
        "  print(\"Pre-loading up to %d examples..\" % args.max_images)\n",
        "  count = preload_images(args.max_images)\n",
        "  print(\"Loaded %d examples\" % count)\n",
        "  app.run()"
      ],
      "execution_count": 28,
      "outputs": [
        {
          "output_type": "stream",
          "text": [
            "Overwriting tfrecord-viewer\n"
          ],
          "name": "stdout"
        }
      ]
    },
    {
      "cell_type": "markdown",
      "metadata": {
        "id": "Zhy1BE6UaSrX",
        "colab_type": "text"
      },
      "source": [
        "##Run"
      ]
    },
    {
      "cell_type": "code",
      "metadata": {
        "id": "06l2GeUXRCtA",
        "colab_type": "code",
        "colab": {
          "base_uri": "https://localhost:8080/",
          "height": 101
        },
        "outputId": "dab32d14-edff-40fe-a423-de0016a66147"
      },
      "source": [
        "!python3 tfviewer.py '/content/data/trainDataset.tfrecord-00008-of-00010' --labels-to-highlight=''"
      ],
      "execution_count": 29,
      "outputs": [
        {
          "output_type": "stream",
          "text": [
            "Exception ignored in: <bound method Popen.__del__ of <subprocess.Popen object at 0x7f193da28d30>>\n",
            "Traceback (most recent call last):\n",
            "  File \"/usr/lib/python3.6/subprocess.py\", line 778, in __del__\n",
            "    def __del__(self, _maxsize=sys.maxsize, _warn=warnings.warn):\n",
            "KeyboardInterrupt\n"
          ],
          "name": "stdout"
        }
      ]
    },
    {
      "cell_type": "code",
      "metadata": {
        "id": "S1AD0DMoYZ-V",
        "colab_type": "code",
        "colab": {}
      },
      "source": [
        ""
      ],
      "execution_count": 0,
      "outputs": []
    }
  ]
}